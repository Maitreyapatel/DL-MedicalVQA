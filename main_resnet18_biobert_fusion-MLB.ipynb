{
 "cells": [
  {
   "cell_type": "code",
   "execution_count": 1,
   "source": [
    "import os\n",
    "os.environ[\"TOKENIZERS_PARALLELISM\"] = \"false\""
   ],
   "outputs": [],
   "metadata": {}
  },
  {
   "cell_type": "code",
   "execution_count": 2,
   "source": [
    "import warnings\n",
    "warnings.filterwarnings(\"ignore\")"
   ],
   "outputs": [],
   "metadata": {}
  },
  {
   "cell_type": "code",
   "execution_count": 3,
   "source": [
    "import numpy as np\n",
    "import sys\n",
    "from os import listdir, makedirs, getcwd, remove\n",
    "from os.path import isfile, join, abspath, exists, isdir, expanduser\n",
    "from scipy.io import loadmat\n",
    "from PIL import Image\n",
    "import pandas as pd\n",
    "\n",
    "import torch\n",
    "from torch.utils.data import Dataset, DataLoader\n",
    "from torchvision.transforms import transforms\n",
    "\n",
    "\n",
    "import pickle\n",
    "from tqdm import tqdm\n",
    "import json\n",
    "import random\n",
    "from collections import Counter\n",
    "\n",
    "from transformers import get_linear_schedule_with_warmup\n",
    "from transformers import AutoTokenizer, AutoModel"
   ],
   "outputs": [],
   "metadata": {}
  },
  {
   "cell_type": "code",
   "execution_count": 4,
   "source": [
    "import torch\n",
    "from torch.autograd import Variable\n",
    "import torch.nn as nn\n",
    "import torch.autograd as autograd\n",
    "from torch.utils.data import Dataset, DataLoader\n",
    "import torch.utils.data as data\n",
    "import torch.nn.functional as F\n",
    "import torch.optim as optim\n",
    "import itertools\n",
    "\n",
    "import torchvision\n",
    "from torchvision import transforms, datasets, models\n",
    "from torch import Tensor\n",
    "\n",
    "from torch.utils.tensorboard import SummaryWriter"
   ],
   "outputs": [],
   "metadata": {}
  },
  {
   "cell_type": "code",
   "execution_count": 5,
   "source": [
    "import transformers\n",
    "import tokenizers\n",
    "from transformers import BertTokenizer, BertModel"
   ],
   "outputs": [],
   "metadata": {}
  },
  {
   "cell_type": "code",
   "execution_count": 6,
   "source": [
    "cfg = {\n",
    "    'max_len': 128,\n",
    "    'lr': 2e-5,\n",
    "    'warmup_steps': 5,\n",
    "    'epochs': 250\n",
    "}"
   ],
   "outputs": [],
   "metadata": {}
  },
  {
   "cell_type": "code",
   "execution_count": null,
   "source": [],
   "outputs": [],
   "metadata": {}
  },
  {
   "cell_type": "code",
   "execution_count": null,
   "source": [],
   "outputs": [],
   "metadata": {}
  },
  {
   "cell_type": "code",
   "execution_count": null,
   "source": [],
   "outputs": [],
   "metadata": {}
  },
  {
   "cell_type": "code",
   "execution_count": 7,
   "source": [
    "class medical_dataset(Dataset):\n",
    "    def __init__(self, config=None, answer_map=None, image_path='./dataset/TrainingDataset/images/', qa_file=\"./dataset/TrainingDataset/training_qa.txt\", train=True):\n",
    "            \n",
    "        assert answer_map!=None\n",
    "        assert config!=None\n",
    "        \n",
    "        self.image_path = image_path\n",
    "        self.qa_file = qa_file\n",
    "        self.config = config\n",
    "        self.train = train\n",
    "        \n",
    "        self.answer_map = answer_map\n",
    "        self.data = pd.read_csv(qa_file, sep='|', names=['imageid', 'question', 'answer'])\n",
    "           \n",
    "        # print(Counter(self.data.answer.tolist()))\n",
    "        \n",
    "        self.transforms = transforms.Compose([\n",
    "                                transforms.RandomResizedCrop(224),\n",
    "                                transforms.ToTensor(),\n",
    "                                transforms.Normalize([0.485, 0.456, 0.406], [0.229, 0.224, 0.225])\n",
    "                            ])\n",
    "        self.tokenizer = tokenizer = AutoTokenizer.from_pretrained(\"dmis-lab/biobert-v1.1\")\n",
    "\n",
    "    def process_data(self, text, max_len):\n",
    "        text = str(text)\n",
    "\n",
    "        inputs = self.tokenizer.encode_plus(\n",
    "            text,\n",
    "            None,\n",
    "            add_special_tokens=True,\n",
    "            max_length=max_len,\n",
    "            truncation=True\n",
    "        )\n",
    "        ids = inputs[\"input_ids\"]\n",
    "        mask = inputs[\"attention_mask\"]\n",
    "        \n",
    "        padding_length = max_len - len(ids)\n",
    "        \n",
    "        ids = ids + ([0] * padding_length)\n",
    "        mask = mask + ([0] * padding_length)\n",
    "        \n",
    "        return {\n",
    "            'ids': torch.tensor(ids, dtype=torch.long),\n",
    "            'mask': torch.tensor(mask, dtype=torch.long),\n",
    "        }\n",
    "    \n",
    "    \n",
    "    def __getitem__(self, index):\n",
    "        \n",
    "        question = self.data.question[index]\n",
    "        answer = self.data.answer[index]\n",
    "        image_idx = self.data.imageid[index]\n",
    "        \n",
    "        ## add visual feature related steps\n",
    "        visuals = Image.open(join(self.image_path, f'{image_idx}.jpg'))\n",
    "        visuals = self.transforms(visuals)\n",
    "        \n",
    "        target = torch.from_numpy(np.array([self.answer_map[answer]])).long()\n",
    "        \n",
    "        tmp = self.process_data(question, self.config['max_len'])\n",
    "        question_tokens = {\n",
    "            'ids': tmp['ids'],\n",
    "            'mask': tmp['mask'],\n",
    "        }\n",
    "        \n",
    "        return visuals, question_tokens, target\n",
    "\n",
    "    def __len__(self):\n",
    "        return len(self.data)"
   ],
   "outputs": [],
   "metadata": {}
  },
  {
   "cell_type": "code",
   "execution_count": 8,
   "source": [
    "# file_path = './dataset/VQA-Med-2020-Task1-VQAnswering-TrainVal-Sets/VQAMed2020-VQAnswering-TrainingSet/VQAnswering_2020_Train_QA_pairs.txt'\n",
    "# data = pd.read_csv(file_path, sep='|', names=['imageid', 'question', 'answer'])\n",
    "# data.head()"
   ],
   "outputs": [],
   "metadata": {}
  },
  {
   "cell_type": "code",
   "execution_count": 9,
   "source": [
    "# answer_map = {}\n",
    "# ct = 0\n",
    "\n",
    "# for i in data.answer.unique():\n",
    "#     answer_map[i] = ct\n",
    "#     ct+=1"
   ],
   "outputs": [],
   "metadata": {}
  },
  {
   "cell_type": "code",
   "execution_count": 10,
   "source": [
    "# with open('./answer_map.pickle', 'wb') as handle:\n",
    "#     pickle.dump(answer_map, handle, protocol=pickle.HIGHEST_PROTOCOL)\n",
    "    "
   ],
   "outputs": [],
   "metadata": {}
  },
  {
   "cell_type": "code",
   "execution_count": 11,
   "source": [
    "with open('./answer_map.pickle', 'rb') as handle:\n",
    "    answer_map = pickle.load(handle)\n",
    "    \n",
    "len(answer_map)"
   ],
   "outputs": [
    {
     "output_type": "execute_result",
     "data": {
      "text/plain": [
       "333"
      ]
     },
     "metadata": {},
     "execution_count": 11
    }
   ],
   "metadata": {}
  },
  {
   "cell_type": "code",
   "execution_count": 12,
   "source": [
    "TrainData = medical_dataset(config=cfg, answer_map=answer_map, image_path='./dataset/TrainingDataset/images/', qa_file='./dataset/TrainingDataset/training_qa.txt')\n",
    "ValData = medical_dataset(config=cfg, answer_map=answer_map, image_path='./dataset/VQA-Med-2021-Tasks-1-2-NewValidationSets/ImageCLEF-2021-VQA-Med-New-Validation-Images/', qa_file='./dataset/VQA-Med-2021-Tasks-1-2-NewValidationSets/VQA-Med-2021-VQAnswering-Task1-New-ValidationSet.txt', train=False)\n"
   ],
   "outputs": [],
   "metadata": {}
  },
  {
   "cell_type": "code",
   "execution_count": 13,
   "source": [
    "%%time\n",
    "a,b,c = ValData.__getitem__(0)"
   ],
   "outputs": [
    {
     "output_type": "stream",
     "name": "stdout",
     "text": [
      "CPU times: user 11.1 ms, sys: 7.9 ms, total: 19 ms\n",
      "Wall time: 34.5 ms\n"
     ]
    }
   ],
   "metadata": {}
  },
  {
   "cell_type": "code",
   "execution_count": 14,
   "source": [
    "TrainDataLoader = DataLoader(TrainData, batch_size=16, shuffle=True, num_workers=4)  # num_workers=0 for windows OS\n",
    "ValDataLoader = DataLoader(ValData, batch_size=128, shuffle=False, num_workers=4)  # num_workers=0 for windows OS"
   ],
   "outputs": [],
   "metadata": {}
  },
  {
   "cell_type": "code",
   "execution_count": 20,
   "source": [
    "#3rd Fusion Module\n",
    "class MLBFusion(nn.Module):\n",
    "\n",
    "    def __init__(self, dim_v=None, dim_q=None, dim_h=512):\n",
    "        super(MLBFusion, self).__init__()\n",
    "        # Modules\n",
    "        self.dim_v = dim_v\n",
    "        self.dim_q = dim_q\n",
    "        self.dim_h = dim_h\n",
    "        self.dropout = 0\n",
    "        self.activation = 'relu'\n",
    "        \n",
    "        if dim_v:\n",
    "            self.linear_v = nn.Linear(dim_v, dim_h)\n",
    "        else:\n",
    "            print('Warning fusion.py: no visual embedding before fusion')\n",
    "\n",
    "        if dim_q:\n",
    "            self.linear_q = nn.Linear(dim_q, dim_h)\n",
    "        else:\n",
    "            print('Warning fusion.py: no question embedding before fusion')\n",
    "        \n",
    "    def forward(self, input_v, input_q):\n",
    "        # visual (cnn features)\n",
    "        if self.dim_v:\n",
    "            x_v = F.dropout(input_v, p=self.dropout, training=self.training)\n",
    "            x_v = self.linear_v(x_v)\n",
    "            x_v = getattr(F, self.activation)(x_v)\n",
    "        else:\n",
    "            x_v = input_v\n",
    "        # question (rnn features)\n",
    "        if self.dim_q:\n",
    "            x_q = F.dropout(input_q, p=self.dropout, training=self.training)\n",
    "            x_q = self.linear_q(x_q)\n",
    "            x_q = getattr(F, self.activation)(x_q)\n",
    "        else:\n",
    "            x_q = input_q\n",
    "        # hadamard product\n",
    "        x_mm = torch.mul(x_q, x_v)\n",
    "        return x_mm"
   ],
   "outputs": [],
   "metadata": {}
  },
  {
   "cell_type": "code",
   "execution_count": 21,
   "source": [
    "class mednet(nn.Module):\n",
    "    def __init__(self, config, max_labels):\n",
    "        super(mednet, self).__init__()\n",
    "        self.vision = models.resnet18(pretrained=True)\n",
    "        num_ftrs = self.vision.fc.in_features\n",
    "        \n",
    "        self.vision = nn.Sequential(*list(self.vision.children())[:-1])\n",
    "        self.bert = AutoModel.from_pretrained(\"dmis-lab/biobert-v1.1\")\n",
    "        \n",
    "        print(f\"Number of vision filters: {num_ftrs}\")\n",
    "        self.fc1 = nn.Linear(512, 128)\n",
    "        self.fc2 = nn.Linear(128, max_labels)\n",
    "        \n",
    "        self.fusion = MLBFusion(dim_v=num_ftrs, dim_q=768, dim_h=512)\n",
    "        \n",
    "\n",
    "    def forward(self, visual=None, ids=None, mask=None):\n",
    "        vision = self.vision(visual).view((ids.shape[0], -1))\n",
    "        bert_out = self.bert(ids, mask)\n",
    "        \n",
    "        h = self.fusion(vision, bert_out.last_hidden_state[:,0])\n",
    "        h = F.relu(self.fc1(h))\n",
    "        h = self.fc2(h)\n",
    "        return h\n"
   ],
   "outputs": [],
   "metadata": {}
  },
  {
   "cell_type": "code",
   "execution_count": 22,
   "source": [
    "class EarlyStopping:\n",
    "    \"\"\"Early stops the training if validation loss doesn't improve after a given patience.\"\"\"\n",
    "    def __init__(self,\n",
    "                 patience=7,\n",
    "                 verbose=False,\n",
    "                 delta=0,\n",
    "                 path='./models/checkpoint.pt',\n",
    "                 trace_func=print):\n",
    "        \"\"\"\n",
    "        Args:\n",
    "            patience (int): How long to wait after last time validation loss improved.\n",
    "                            Default: 7\n",
    "            verbose (bool): If True, prints a message for each validation loss improvement. \n",
    "                            Default: False\n",
    "            delta (float): Minimum change in the monitored quantity to qualify as an improvement.\n",
    "                            Default: 0\n",
    "            path (str): Path for the checkpoint to be saved to.\n",
    "                            Default: 'checkpoint.pt'\n",
    "            trace_func (function): trace print function.\n",
    "                            Default: print            \n",
    "        \"\"\"\n",
    "        self.patience = patience\n",
    "        self.verbose = verbose\n",
    "        self.counter = 0\n",
    "        self.best_score = None\n",
    "        self.early_stop = False\n",
    "        self.val_loss_min = np.Inf\n",
    "        self.delta = delta\n",
    "        self.path = path\n",
    "        self.trace_func = trace_func\n",
    "\n",
    "    def __call__(self, val_loss, model):\n",
    "\n",
    "        score = -val_loss\n",
    "\n",
    "        if self.best_score is None:\n",
    "            self.best_score = score\n",
    "            self.save_checkpoint(val_loss, model)\n",
    "        elif score < self.best_score + self.delta:\n",
    "            self.counter += 1\n",
    "            self.trace_func(\n",
    "                f'EarlyStopping counter: {self.counter} out of {self.patience}'\n",
    "            )\n",
    "            if self.counter >= self.patience:\n",
    "                self.early_stop = True\n",
    "        else:\n",
    "            self.best_score = score\n",
    "            self.save_checkpoint(val_loss, model)\n",
    "            self.counter = 0\n",
    "\n",
    "    def save_checkpoint(self, val_loss, model):\n",
    "        '''Saves model when validation loss decrease.'''\n",
    "        if self.verbose:\n",
    "            self.trace_func(\n",
    "                f'Validation loss decreased ({self.val_loss_min:.6f} --> {val_loss:.6f}).  Saving model ...'\n",
    "            )\n",
    "        torch.save(model.state_dict(), self.path)\n",
    "        self.val_loss_min = val_loss"
   ],
   "outputs": [],
   "metadata": {
    "code_folding": []
   }
  },
  {
   "cell_type": "code",
   "execution_count": 23,
   "source": [
    "class Trainer:\n",
    "    def __init__(self,\n",
    "                 trainloader,\n",
    "                 vallaoder,\n",
    "                 model_ft,\n",
    "                 writer=None,\n",
    "                 testloader=None,\n",
    "                 checkpoint_path=None,\n",
    "                 patience=10,\n",
    "                 feature_extract=True,\n",
    "                 print_itr=50,\n",
    "                 config=None):\n",
    "        self.trainloader = trainloader\n",
    "        self.valloader = vallaoder\n",
    "        self.testloader = testloader\n",
    "        \n",
    "        self.config=config\n",
    "\n",
    "        self.device = torch.device(\n",
    "            \"cuda\" if torch.cuda.is_available() else \"cpu\")\n",
    "\n",
    "        print(\"==\" * 10)\n",
    "        print(\"Training will be done on \", self.device)\n",
    "        print(\"==\" * 10)\n",
    "\n",
    "        self.model = model_ft        \n",
    "        if torch.cuda.device_count() > 1:\n",
    "            print(\"Let's use\", torch.cuda.device_count(), \"GPUs!\")\n",
    "            self.model = nn.DataParallel(self.model, device_ids=[0,1])\n",
    "        \n",
    "        self.model = self.model.to(self.device)\n",
    "        \n",
    "        \n",
    "        # Observe that all parameters are being optimized\n",
    "        self.optimizer = optim.RAdam(self.model.parameters(), lr=self.config['lr'])\n",
    "        \n",
    "        self.scheduler = get_linear_schedule_with_warmup(self.optimizer, \n",
    "                                            num_warmup_steps = len(self.trainloader)*self.config['warmup_steps'], # Default value in run_glue.py\n",
    "                                            num_training_steps = len(self.trainloader)*self.config['epochs'])\n",
    "\n",
    "        \n",
    "        self.criterion = nn.CrossEntropyLoss()\n",
    "        self.early_stopping = EarlyStopping(patience=patience, verbose=True)\n",
    "        self.writer = writer\n",
    "        self.print_itr = print_itr\n",
    "\n",
    "    def train(self, ep):\n",
    "        self.model.train()\n",
    "\n",
    "        running_loss = 0.0\n",
    "\n",
    "        for en, (visuals, question, target) in tqdm(enumerate(self.trainloader)):\n",
    "            self.optimizer.zero_grad()\n",
    "            \n",
    "            visuals = visuals.to(self.device)\n",
    "            y = target.squeeze().to(self.device)\n",
    "            \n",
    "            ids = question['ids'].to(self.device)\n",
    "            mask = question['mask'].to(self.device)\n",
    "\n",
    "            outputs = self.model(visuals, ids, mask)\n",
    "            loss = self.criterion(outputs, y)\n",
    "            loss.backward()\n",
    "            self.optimizer.step()\n",
    "            self.scheduler.step()\n",
    "\n",
    "            running_loss += loss.item()\n",
    "            if self.writer:\n",
    "                self.writer.add_scalar('Train Loss', running_loss, ep*len(self.trainloader) + en)\n",
    "            running_loss = 0\n",
    "            \n",
    "\n",
    "    def validate(self, ep):\n",
    "        self.model.eval()\n",
    "        \n",
    "        running_loss = 0.0\n",
    "        correct = 0\n",
    "        total = 0\n",
    "        with torch.no_grad():\n",
    "            for en, (visuals, question, target) in tqdm(enumerate(self.valloader)):\n",
    "                visuals = visuals.to(self.device)\n",
    "                y = target.squeeze().to(self.device)\n",
    "                \n",
    "                ids = question['ids'].to(self.device)\n",
    "                mask = question['mask'].to(self.device)\n",
    "                \n",
    "                outputs = self.model(visuals, ids, mask)\n",
    "                loss = self.criterion(outputs, y)\n",
    "\n",
    "                y_pred_softmax = torch.log_softmax(outputs, dim = 1)\n",
    "                _, y_pred_tags = torch.max(y_pred_softmax, dim = 1)\n",
    "                # self.tmp_sv_ = y_pred_tags\n",
    "                \n",
    "                correct += (y_pred_tags.detach().cpu().data.numpy() == y.detach().cpu().data.numpy()).sum()\n",
    "                total += y_pred_tags.shape[0]\n",
    "                \n",
    "                # print statistics\n",
    "                running_loss += loss.item()\n",
    "        \n",
    "        \n",
    "        return running_loss / len(self.valloader), correct*100/total\n",
    "\n",
    "    def perform_training(self, total_epoch):\n",
    "        val_loss, acc = self.validate(0)\n",
    "\n",
    "        print(\"[Initial Validation results] Loss: {} \\t Acc: {}\".format(\n",
    "            val_loss, acc))\n",
    "\n",
    "        for i in range(total_epoch):\n",
    "            self.train(i + 1)\n",
    "            val_loss, acc = self.validate(i + 1)\n",
    "            print('[{}/{}] Loss: {} \\t Acc: {}'.format(i+1, total_epoch, val_loss, acc))\n",
    "\n",
    "            if self.writer:\n",
    "                self.writer.add_scalar('Validation Loss', val_loss, (i + 1))\n",
    "                self.writer.add_scalar('Validation Acc', acc, (i + 1))\n",
    "\n",
    "            self.early_stopping(-acc, self.model)\n",
    "\n",
    "            if self.early_stopping.early_stop:\n",
    "                print(\"Early stopping\")\n",
    "                break\n",
    "\n",
    "        print(\"=\" * 20)\n",
    "        print(\"Training finished !!\")\n",
    "        print(\"=\" * 20)\n"
   ],
   "outputs": [],
   "metadata": {}
  },
  {
   "cell_type": "code",
   "execution_count": 24,
   "source": [
    "model_ft = mednet(config=cfg, max_labels=len(answer_map))\n",
    "writer = SummaryWriter('runs/resnet18_fusion-MLB_run_1')\n",
    "trainer = Trainer(TrainDataLoader, ValDataLoader, model_ft, writer=writer, config=cfg)"
   ],
   "outputs": [
    {
     "output_type": "stream",
     "name": "stdout",
     "text": [
      "Number of vision filters: 512\n",
      "====================\n",
      "Training will be done on  cuda\n",
      "====================\n",
      "Let's use 2 GPUs!\n"
     ]
    }
   ],
   "metadata": {}
  },
  {
   "cell_type": "code",
   "execution_count": 25,
   "source": [
    "trainer.perform_training(cfg['epochs'])"
   ],
   "outputs": [
    {
     "output_type": "stream",
     "name": "stderr",
     "text": [
      "4it [00:04,  1.01s/it]"
     ]
    },
    {
     "output_type": "stream",
     "name": "stdout",
     "text": [
      "[Initial Validation results] Loss: 5.812502026557922 \t Acc: 0.0\n"
     ]
    },
    {
     "output_type": "stream",
     "name": "stderr",
     "text": [
      "\n",
      "282it [00:52,  5.33it/s]\n",
      "4it [00:01,  2.56it/s]\n"
     ]
    },
    {
     "output_type": "stream",
     "name": "stdout",
     "text": [
      "[1/250] Loss: 5.811530590057373 \t Acc: 0.0\n",
      "Validation loss decreased (inf --> -0.000000).  Saving model ...\n"
     ]
    },
    {
     "output_type": "stream",
     "name": "stderr",
     "text": [
      "282it [00:53,  5.32it/s]\n",
      "4it [00:01,  2.63it/s]\n"
     ]
    },
    {
     "output_type": "stream",
     "name": "stdout",
     "text": [
      "[2/250] Loss: 5.801392555236816 \t Acc: 0.2\n",
      "Validation loss decreased (-0.000000 --> -0.200000).  Saving model ...\n"
     ]
    },
    {
     "output_type": "stream",
     "name": "stderr",
     "text": [
      "282it [00:53,  5.31it/s]\n",
      "4it [00:01,  2.54it/s]"
     ]
    },
    {
     "output_type": "stream",
     "name": "stdout",
     "text": [
      "[3/250] Loss: 5.770436763763428 \t Acc: 0.0\n",
      "EarlyStopping counter: 1 out of 10\n"
     ]
    },
    {
     "output_type": "stream",
     "name": "stderr",
     "text": [
      "\n",
      "282it [00:53,  5.31it/s]\n",
      "4it [00:01,  2.52it/s]\n"
     ]
    },
    {
     "output_type": "stream",
     "name": "stdout",
     "text": [
      "[4/250] Loss: 5.693037986755371 \t Acc: 1.8\n",
      "Validation loss decreased (-0.200000 --> -1.800000).  Saving model ...\n"
     ]
    },
    {
     "output_type": "stream",
     "name": "stderr",
     "text": [
      "282it [00:52,  5.32it/s]\n",
      "4it [00:01,  2.50it/s]\n"
     ]
    },
    {
     "output_type": "stream",
     "name": "stdout",
     "text": [
      "[5/250] Loss: 5.548788070678711 \t Acc: 4.2\n",
      "Validation loss decreased (-1.800000 --> -4.200000).  Saving model ...\n"
     ]
    },
    {
     "output_type": "stream",
     "name": "stderr",
     "text": [
      "282it [00:53,  5.32it/s]\n",
      "4it [00:01,  2.61it/s]\n"
     ]
    },
    {
     "output_type": "stream",
     "name": "stdout",
     "text": [
      "[6/250] Loss: 5.393372893333435 \t Acc: 4.6\n",
      "Validation loss decreased (-4.200000 --> -4.600000).  Saving model ...\n"
     ]
    },
    {
     "output_type": "stream",
     "name": "stderr",
     "text": [
      "282it [00:53,  5.31it/s]\n",
      "4it [00:01,  2.58it/s]\n"
     ]
    },
    {
     "output_type": "stream",
     "name": "stdout",
     "text": [
      "[7/250] Loss: 5.202782034873962 \t Acc: 7.4\n",
      "Validation loss decreased (-4.600000 --> -7.400000).  Saving model ...\n"
     ]
    },
    {
     "output_type": "stream",
     "name": "stderr",
     "text": [
      "282it [00:53,  5.31it/s]\n",
      "4it [00:01,  2.55it/s]\n"
     ]
    },
    {
     "output_type": "stream",
     "name": "stdout",
     "text": [
      "[8/250] Loss: 4.987839221954346 \t Acc: 10.4\n",
      "Validation loss decreased (-7.400000 --> -10.400000).  Saving model ...\n"
     ]
    },
    {
     "output_type": "stream",
     "name": "stderr",
     "text": [
      "282it [00:53,  5.31it/s]\n",
      "4it [00:01,  2.62it/s]\n"
     ]
    },
    {
     "output_type": "stream",
     "name": "stdout",
     "text": [
      "[9/250] Loss: 4.813996434211731 \t Acc: 10.4\n",
      "Validation loss decreased (-10.400000 --> -10.400000).  Saving model ...\n"
     ]
    },
    {
     "output_type": "stream",
     "name": "stderr",
     "text": [
      "282it [00:53,  5.31it/s]\n",
      "4it [00:01,  2.56it/s]\n"
     ]
    },
    {
     "output_type": "stream",
     "name": "stdout",
     "text": [
      "[10/250] Loss: 4.713526368141174 \t Acc: 11.2\n",
      "Validation loss decreased (-10.400000 --> -11.200000).  Saving model ...\n"
     ]
    },
    {
     "output_type": "stream",
     "name": "stderr",
     "text": [
      "282it [00:53,  5.31it/s]\n",
      "4it [00:01,  2.54it/s]\n"
     ]
    },
    {
     "output_type": "stream",
     "name": "stdout",
     "text": [
      "[11/250] Loss: 4.552898406982422 \t Acc: 13.8\n",
      "Validation loss decreased (-11.200000 --> -13.800000).  Saving model ...\n"
     ]
    },
    {
     "output_type": "stream",
     "name": "stderr",
     "text": [
      "282it [00:53,  5.32it/s]\n",
      "4it [00:01,  2.57it/s]\n"
     ]
    },
    {
     "output_type": "stream",
     "name": "stdout",
     "text": [
      "[12/250] Loss: 4.415682315826416 \t Acc: 15.4\n",
      "Validation loss decreased (-13.800000 --> -15.400000).  Saving model ...\n"
     ]
    },
    {
     "output_type": "stream",
     "name": "stderr",
     "text": [
      "282it [00:53,  5.32it/s]\n",
      "4it [00:01,  2.57it/s]"
     ]
    },
    {
     "output_type": "stream",
     "name": "stdout",
     "text": [
      "[13/250] Loss: 4.307988882064819 \t Acc: 12.8\n",
      "EarlyStopping counter: 1 out of 10\n"
     ]
    },
    {
     "output_type": "stream",
     "name": "stderr",
     "text": [
      "\n",
      "282it [00:53,  5.31it/s]\n",
      "4it [00:01,  2.60it/s]\n"
     ]
    },
    {
     "output_type": "stream",
     "name": "stdout",
     "text": [
      "[14/250] Loss: 4.242518663406372 \t Acc: 15.4\n",
      "Validation loss decreased (-15.400000 --> -15.400000).  Saving model ...\n"
     ]
    },
    {
     "output_type": "stream",
     "name": "stderr",
     "text": [
      "282it [00:53,  5.31it/s]\n",
      "4it [00:01,  2.56it/s]\n"
     ]
    },
    {
     "output_type": "stream",
     "name": "stdout",
     "text": [
      "[15/250] Loss: 4.198721766471863 \t Acc: 17.4\n",
      "Validation loss decreased (-15.400000 --> -17.400000).  Saving model ...\n"
     ]
    },
    {
     "output_type": "stream",
     "name": "stderr",
     "text": [
      "282it [00:53,  5.31it/s]\n",
      "4it [00:01,  2.61it/s]\n"
     ]
    },
    {
     "output_type": "stream",
     "name": "stdout",
     "text": [
      "[16/250] Loss: 4.040081977844238 \t Acc: 21.0\n",
      "Validation loss decreased (-17.400000 --> -21.000000).  Saving model ...\n"
     ]
    },
    {
     "output_type": "stream",
     "name": "stderr",
     "text": [
      "282it [00:53,  5.32it/s]\n",
      "4it [00:01,  2.57it/s]"
     ]
    },
    {
     "output_type": "stream",
     "name": "stdout",
     "text": [
      "[17/250] Loss: 4.051970601081848 \t Acc: 19.2\n",
      "EarlyStopping counter: 1 out of 10\n"
     ]
    },
    {
     "output_type": "stream",
     "name": "stderr",
     "text": [
      "\n",
      "282it [00:52,  5.32it/s]\n",
      "4it [00:01,  2.54it/s]\n"
     ]
    },
    {
     "output_type": "stream",
     "name": "stdout",
     "text": [
      "[18/250] Loss: 3.875373899936676 \t Acc: 23.8\n",
      "Validation loss decreased (-21.000000 --> -23.800000).  Saving model ...\n"
     ]
    },
    {
     "output_type": "stream",
     "name": "stderr",
     "text": [
      "282it [00:53,  5.31it/s]\n",
      "4it [00:01,  2.55it/s]"
     ]
    },
    {
     "output_type": "stream",
     "name": "stdout",
     "text": [
      "[19/250] Loss: 3.9861786365509033 \t Acc: 19.0\n",
      "EarlyStopping counter: 1 out of 10\n"
     ]
    },
    {
     "output_type": "stream",
     "name": "stderr",
     "text": [
      "\n",
      "282it [00:53,  5.31it/s]\n",
      "4it [00:01,  2.52it/s]"
     ]
    },
    {
     "output_type": "stream",
     "name": "stdout",
     "text": [
      "[20/250] Loss: 3.8456026315689087 \t Acc: 21.8\n",
      "EarlyStopping counter: 2 out of 10\n"
     ]
    },
    {
     "output_type": "stream",
     "name": "stderr",
     "text": [
      "\n",
      "282it [00:53,  5.31it/s]\n",
      "4it [00:01,  2.56it/s]"
     ]
    },
    {
     "output_type": "stream",
     "name": "stdout",
     "text": [
      "[21/250] Loss: 3.7877159118652344 \t Acc: 22.8\n",
      "EarlyStopping counter: 3 out of 10\n"
     ]
    },
    {
     "output_type": "stream",
     "name": "stderr",
     "text": [
      "\n",
      "282it [00:53,  5.31it/s]\n",
      "4it [00:01,  2.54it/s]"
     ]
    },
    {
     "output_type": "stream",
     "name": "stdout",
     "text": [
      "[22/250] Loss: 3.8751221895217896 \t Acc: 22.8\n",
      "EarlyStopping counter: 4 out of 10\n"
     ]
    },
    {
     "output_type": "stream",
     "name": "stderr",
     "text": [
      "\n",
      "282it [00:53,  5.31it/s]\n",
      "4it [00:01,  2.60it/s]\n"
     ]
    },
    {
     "output_type": "stream",
     "name": "stdout",
     "text": [
      "[23/250] Loss: 3.7947794795036316 \t Acc: 23.8\n",
      "Validation loss decreased (-23.800000 --> -23.800000).  Saving model ...\n"
     ]
    },
    {
     "output_type": "stream",
     "name": "stderr",
     "text": [
      "282it [00:53,  5.32it/s]\n",
      "4it [00:01,  2.53it/s]"
     ]
    },
    {
     "output_type": "stream",
     "name": "stdout",
     "text": [
      "[24/250] Loss: 3.720829427242279 \t Acc: 23.4\n",
      "EarlyStopping counter: 1 out of 10\n"
     ]
    },
    {
     "output_type": "stream",
     "name": "stderr",
     "text": [
      "\n",
      "282it [00:53,  5.31it/s]\n",
      "4it [00:01,  2.52it/s]\n"
     ]
    },
    {
     "output_type": "stream",
     "name": "stdout",
     "text": [
      "[25/250] Loss: 3.686511814594269 \t Acc: 27.6\n",
      "Validation loss decreased (-23.800000 --> -27.600000).  Saving model ...\n"
     ]
    },
    {
     "output_type": "stream",
     "name": "stderr",
     "text": [
      "282it [00:53,  5.32it/s]\n",
      "4it [00:01,  2.58it/s]"
     ]
    },
    {
     "output_type": "stream",
     "name": "stdout",
     "text": [
      "[26/250] Loss: 3.749365210533142 \t Acc: 25.2\n",
      "EarlyStopping counter: 1 out of 10\n"
     ]
    },
    {
     "output_type": "stream",
     "name": "stderr",
     "text": [
      "\n",
      "282it [00:53,  5.31it/s]\n",
      "4it [00:01,  2.58it/s]"
     ]
    },
    {
     "output_type": "stream",
     "name": "stdout",
     "text": [
      "[27/250] Loss: 3.691597104072571 \t Acc: 27.0\n",
      "EarlyStopping counter: 2 out of 10\n"
     ]
    },
    {
     "output_type": "stream",
     "name": "stderr",
     "text": [
      "\n",
      "282it [00:53,  5.31it/s]\n",
      "4it [00:01,  2.60it/s]\n"
     ]
    },
    {
     "output_type": "stream",
     "name": "stdout",
     "text": [
      "[28/250] Loss: 3.6353889107704163 \t Acc: 30.2\n",
      "Validation loss decreased (-27.600000 --> -30.200000).  Saving model ...\n"
     ]
    },
    {
     "output_type": "stream",
     "name": "stderr",
     "text": [
      "282it [00:53,  5.32it/s]\n",
      "4it [00:01,  2.60it/s]"
     ]
    },
    {
     "output_type": "stream",
     "name": "stdout",
     "text": [
      "[29/250] Loss: 3.584589421749115 \t Acc: 28.4\n",
      "EarlyStopping counter: 1 out of 10\n"
     ]
    },
    {
     "output_type": "stream",
     "name": "stderr",
     "text": [
      "\n",
      "282it [00:53,  5.32it/s]\n",
      "4it [00:01,  2.57it/s]"
     ]
    },
    {
     "output_type": "stream",
     "name": "stdout",
     "text": [
      "[30/250] Loss: 3.6709401607513428 \t Acc: 28.2\n",
      "EarlyStopping counter: 2 out of 10\n"
     ]
    },
    {
     "output_type": "stream",
     "name": "stderr",
     "text": [
      "\n",
      "282it [00:53,  5.31it/s]\n",
      "4it [00:01,  2.55it/s]\n"
     ]
    },
    {
     "output_type": "stream",
     "name": "stdout",
     "text": [
      "[31/250] Loss: 3.5841389298439026 \t Acc: 32.4\n",
      "Validation loss decreased (-30.200000 --> -32.400000).  Saving model ...\n"
     ]
    },
    {
     "output_type": "stream",
     "name": "stderr",
     "text": [
      "282it [00:53,  5.32it/s]\n",
      "4it [00:01,  2.56it/s]"
     ]
    },
    {
     "output_type": "stream",
     "name": "stdout",
     "text": [
      "[32/250] Loss: 3.809987485408783 \t Acc: 30.0\n",
      "EarlyStopping counter: 1 out of 10\n"
     ]
    },
    {
     "output_type": "stream",
     "name": "stderr",
     "text": [
      "\n",
      "282it [00:53,  5.32it/s]\n",
      "4it [00:01,  2.55it/s]"
     ]
    },
    {
     "output_type": "stream",
     "name": "stdout",
     "text": [
      "[33/250] Loss: 3.6738269329071045 \t Acc: 31.4\n",
      "EarlyStopping counter: 2 out of 10\n"
     ]
    },
    {
     "output_type": "stream",
     "name": "stderr",
     "text": [
      "\n",
      "282it [00:53,  5.31it/s]\n",
      "4it [00:01,  2.57it/s]"
     ]
    },
    {
     "output_type": "stream",
     "name": "stdout",
     "text": [
      "[34/250] Loss: 3.709216356277466 \t Acc: 28.6\n",
      "EarlyStopping counter: 3 out of 10\n"
     ]
    },
    {
     "output_type": "stream",
     "name": "stderr",
     "text": [
      "\n",
      "282it [00:53,  5.31it/s]\n",
      "4it [00:01,  2.56it/s]"
     ]
    },
    {
     "output_type": "stream",
     "name": "stdout",
     "text": [
      "[35/250] Loss: 3.7636728286743164 \t Acc: 32.0\n",
      "EarlyStopping counter: 4 out of 10\n"
     ]
    },
    {
     "output_type": "stream",
     "name": "stderr",
     "text": [
      "\n",
      "282it [00:52,  5.32it/s]\n",
      "4it [00:01,  2.55it/s]\n"
     ]
    },
    {
     "output_type": "stream",
     "name": "stdout",
     "text": [
      "[36/250] Loss: 3.6823253631591797 \t Acc: 33.2\n",
      "Validation loss decreased (-32.400000 --> -33.200000).  Saving model ...\n"
     ]
    },
    {
     "output_type": "stream",
     "name": "stderr",
     "text": [
      "282it [00:53,  5.31it/s]\n",
      "4it [00:01,  2.53it/s]\n"
     ]
    },
    {
     "output_type": "stream",
     "name": "stdout",
     "text": [
      "[37/250] Loss: 3.5620210766792297 \t Acc: 33.4\n",
      "Validation loss decreased (-33.200000 --> -33.400000).  Saving model ...\n"
     ]
    },
    {
     "output_type": "stream",
     "name": "stderr",
     "text": [
      "282it [00:53,  5.32it/s]\n",
      "4it [00:01,  2.61it/s]"
     ]
    },
    {
     "output_type": "stream",
     "name": "stdout",
     "text": [
      "[38/250] Loss: 3.7807061672210693 \t Acc: 31.6\n",
      "EarlyStopping counter: 1 out of 10\n"
     ]
    },
    {
     "output_type": "stream",
     "name": "stderr",
     "text": [
      "\n",
      "282it [00:53,  5.31it/s]\n",
      "4it [00:01,  2.59it/s]\n"
     ]
    },
    {
     "output_type": "stream",
     "name": "stdout",
     "text": [
      "[39/250] Loss: 3.6551392674446106 \t Acc: 34.2\n",
      "Validation loss decreased (-33.400000 --> -34.200000).  Saving model ...\n"
     ]
    },
    {
     "output_type": "stream",
     "name": "stderr",
     "text": [
      "282it [00:53,  5.31it/s]\n",
      "4it [00:01,  2.56it/s]\n"
     ]
    },
    {
     "output_type": "stream",
     "name": "stdout",
     "text": [
      "[40/250] Loss: 3.7373404502868652 \t Acc: 34.8\n",
      "Validation loss decreased (-34.200000 --> -34.800000).  Saving model ...\n"
     ]
    },
    {
     "output_type": "stream",
     "name": "stderr",
     "text": [
      "282it [00:53,  5.30it/s]\n",
      "4it [00:01,  2.58it/s]"
     ]
    },
    {
     "output_type": "stream",
     "name": "stdout",
     "text": [
      "[41/250] Loss: 3.8876466751098633 \t Acc: 31.2\n",
      "EarlyStopping counter: 1 out of 10\n"
     ]
    },
    {
     "output_type": "stream",
     "name": "stderr",
     "text": [
      "\n",
      "282it [00:53,  5.31it/s]\n",
      "4it [00:01,  2.56it/s]"
     ]
    },
    {
     "output_type": "stream",
     "name": "stdout",
     "text": [
      "[42/250] Loss: 3.796594500541687 \t Acc: 31.2\n",
      "EarlyStopping counter: 2 out of 10\n"
     ]
    },
    {
     "output_type": "stream",
     "name": "stderr",
     "text": [
      "\n",
      "282it [00:53,  5.32it/s]\n",
      "4it [00:01,  2.55it/s]"
     ]
    },
    {
     "output_type": "stream",
     "name": "stdout",
     "text": [
      "[43/250] Loss: 3.8053457736968994 \t Acc: 31.8\n",
      "EarlyStopping counter: 3 out of 10\n"
     ]
    },
    {
     "output_type": "stream",
     "name": "stderr",
     "text": [
      "\n",
      "282it [00:53,  5.30it/s]\n",
      "4it [00:01,  2.58it/s]"
     ]
    },
    {
     "output_type": "stream",
     "name": "stdout",
     "text": [
      "[44/250] Loss: 3.856473743915558 \t Acc: 32.8\n",
      "EarlyStopping counter: 4 out of 10\n"
     ]
    },
    {
     "output_type": "stream",
     "name": "stderr",
     "text": [
      "\n",
      "282it [00:53,  5.31it/s]\n",
      "4it [00:01,  2.53it/s]"
     ]
    },
    {
     "output_type": "stream",
     "name": "stdout",
     "text": [
      "[45/250] Loss: 3.6343867778778076 \t Acc: 32.4\n",
      "EarlyStopping counter: 5 out of 10\n"
     ]
    },
    {
     "output_type": "stream",
     "name": "stderr",
     "text": [
      "\n",
      "282it [00:53,  5.31it/s]\n",
      "4it [00:01,  2.55it/s]"
     ]
    },
    {
     "output_type": "stream",
     "name": "stdout",
     "text": [
      "[46/250] Loss: 3.7829599380493164 \t Acc: 33.0\n",
      "EarlyStopping counter: 6 out of 10\n"
     ]
    },
    {
     "output_type": "stream",
     "name": "stderr",
     "text": [
      "\n",
      "282it [00:53,  5.32it/s]\n",
      "4it [00:01,  2.58it/s]\n"
     ]
    },
    {
     "output_type": "stream",
     "name": "stdout",
     "text": [
      "[47/250] Loss: 3.7185477018356323 \t Acc: 35.0\n",
      "Validation loss decreased (-34.800000 --> -35.000000).  Saving model ...\n"
     ]
    },
    {
     "output_type": "stream",
     "name": "stderr",
     "text": [
      "282it [00:53,  5.32it/s]\n",
      "4it [00:01,  2.59it/s]"
     ]
    },
    {
     "output_type": "stream",
     "name": "stdout",
     "text": [
      "[48/250] Loss: 3.895490348339081 \t Acc: 31.4\n",
      "EarlyStopping counter: 1 out of 10\n"
     ]
    },
    {
     "output_type": "stream",
     "name": "stderr",
     "text": [
      "\n",
      "282it [00:53,  5.31it/s]\n",
      "4it [00:01,  2.57it/s]\n"
     ]
    },
    {
     "output_type": "stream",
     "name": "stdout",
     "text": [
      "[49/250] Loss: 3.728913366794586 \t Acc: 36.6\n",
      "Validation loss decreased (-35.000000 --> -36.600000).  Saving model ...\n"
     ]
    },
    {
     "output_type": "stream",
     "name": "stderr",
     "text": [
      "282it [00:53,  5.31it/s]\n",
      "4it [00:01,  2.59it/s]"
     ]
    },
    {
     "output_type": "stream",
     "name": "stdout",
     "text": [
      "[50/250] Loss: 3.7310253381729126 \t Acc: 34.2\n",
      "EarlyStopping counter: 1 out of 10\n"
     ]
    },
    {
     "output_type": "stream",
     "name": "stderr",
     "text": [
      "\n",
      "282it [00:53,  5.31it/s]\n",
      "4it [00:01,  2.62it/s]"
     ]
    },
    {
     "output_type": "stream",
     "name": "stdout",
     "text": [
      "[51/250] Loss: 3.775515556335449 \t Acc: 35.0\n",
      "EarlyStopping counter: 2 out of 10\n"
     ]
    },
    {
     "output_type": "stream",
     "name": "stderr",
     "text": [
      "\n",
      "282it [00:53,  5.32it/s]\n",
      "4it [00:01,  2.55it/s]"
     ]
    },
    {
     "output_type": "stream",
     "name": "stdout",
     "text": [
      "[52/250] Loss: 3.929898262023926 \t Acc: 34.8\n",
      "EarlyStopping counter: 3 out of 10\n"
     ]
    },
    {
     "output_type": "stream",
     "name": "stderr",
     "text": [
      "\n",
      "282it [00:53,  5.32it/s]\n",
      "4it [00:01,  2.52it/s]"
     ]
    },
    {
     "output_type": "stream",
     "name": "stdout",
     "text": [
      "[53/250] Loss: 3.8607380390167236 \t Acc: 35.2\n",
      "EarlyStopping counter: 4 out of 10\n"
     ]
    },
    {
     "output_type": "stream",
     "name": "stderr",
     "text": [
      "\n",
      "282it [00:53,  5.31it/s]\n",
      "4it [00:01,  2.58it/s]"
     ]
    },
    {
     "output_type": "stream",
     "name": "stdout",
     "text": [
      "[54/250] Loss: 4.006890952587128 \t Acc: 32.2\n",
      "EarlyStopping counter: 5 out of 10\n"
     ]
    },
    {
     "output_type": "stream",
     "name": "stderr",
     "text": [
      "\n",
      "282it [00:53,  5.31it/s]\n",
      "4it [00:01,  2.59it/s]\n"
     ]
    },
    {
     "output_type": "stream",
     "name": "stdout",
     "text": [
      "[55/250] Loss: 3.9344884753227234 \t Acc: 36.8\n",
      "Validation loss decreased (-36.600000 --> -36.800000).  Saving model ...\n"
     ]
    },
    {
     "output_type": "stream",
     "name": "stderr",
     "text": [
      "282it [00:53,  5.31it/s]\n",
      "4it [00:01,  2.54it/s]\n"
     ]
    },
    {
     "output_type": "stream",
     "name": "stdout",
     "text": [
      "[56/250] Loss: 3.8711518049240112 \t Acc: 38.0\n",
      "Validation loss decreased (-36.800000 --> -38.000000).  Saving model ...\n"
     ]
    },
    {
     "output_type": "stream",
     "name": "stderr",
     "text": [
      "282it [00:53,  5.31it/s]\n",
      "4it [00:01,  2.58it/s]"
     ]
    },
    {
     "output_type": "stream",
     "name": "stdout",
     "text": [
      "[57/250] Loss: 3.9980027079582214 \t Acc: 35.6\n",
      "EarlyStopping counter: 1 out of 10\n"
     ]
    },
    {
     "output_type": "stream",
     "name": "stderr",
     "text": [
      "\n",
      "282it [00:53,  5.30it/s]\n",
      "4it [00:01,  2.56it/s]"
     ]
    },
    {
     "output_type": "stream",
     "name": "stdout",
     "text": [
      "[58/250] Loss: 3.6581377387046814 \t Acc: 37.6\n",
      "EarlyStopping counter: 2 out of 10\n"
     ]
    },
    {
     "output_type": "stream",
     "name": "stderr",
     "text": [
      "\n",
      "282it [00:53,  5.31it/s]\n",
      "4it [00:01,  2.54it/s]"
     ]
    },
    {
     "output_type": "stream",
     "name": "stdout",
     "text": [
      "[59/250] Loss: 3.86177796125412 \t Acc: 34.8\n",
      "EarlyStopping counter: 3 out of 10\n"
     ]
    },
    {
     "output_type": "stream",
     "name": "stderr",
     "text": [
      "\n",
      "282it [00:53,  5.32it/s]\n",
      "4it [00:01,  2.61it/s]"
     ]
    },
    {
     "output_type": "stream",
     "name": "stdout",
     "text": [
      "[60/250] Loss: 3.834803819656372 \t Acc: 34.0\n",
      "EarlyStopping counter: 4 out of 10\n"
     ]
    },
    {
     "output_type": "stream",
     "name": "stderr",
     "text": [
      "\n",
      "282it [00:53,  5.31it/s]\n",
      "4it [00:01,  2.55it/s]"
     ]
    },
    {
     "output_type": "stream",
     "name": "stdout",
     "text": [
      "[61/250] Loss: 3.8515923619270325 \t Acc: 36.4\n",
      "EarlyStopping counter: 5 out of 10\n"
     ]
    },
    {
     "output_type": "stream",
     "name": "stderr",
     "text": [
      "\n",
      "282it [00:53,  5.31it/s]\n",
      "4it [00:01,  2.60it/s]"
     ]
    },
    {
     "output_type": "stream",
     "name": "stdout",
     "text": [
      "[62/250] Loss: 3.8175195455551147 \t Acc: 37.4\n",
      "EarlyStopping counter: 6 out of 10\n"
     ]
    },
    {
     "output_type": "stream",
     "name": "stderr",
     "text": [
      "\n",
      "282it [00:53,  5.30it/s]\n",
      "4it [00:01,  2.57it/s]"
     ]
    },
    {
     "output_type": "stream",
     "name": "stdout",
     "text": [
      "[63/250] Loss: 3.763061761856079 \t Acc: 36.4\n",
      "EarlyStopping counter: 7 out of 10\n"
     ]
    },
    {
     "output_type": "stream",
     "name": "stderr",
     "text": [
      "\n",
      "282it [00:53,  5.30it/s]\n",
      "4it [00:01,  2.60it/s]\n"
     ]
    },
    {
     "output_type": "stream",
     "name": "stdout",
     "text": [
      "[64/250] Loss: 3.6883451342582703 \t Acc: 40.6\n",
      "Validation loss decreased (-38.000000 --> -40.600000).  Saving model ...\n"
     ]
    },
    {
     "output_type": "stream",
     "name": "stderr",
     "text": [
      "282it [00:53,  5.30it/s]\n",
      "4it [00:01,  2.55it/s]"
     ]
    },
    {
     "output_type": "stream",
     "name": "stdout",
     "text": [
      "[65/250] Loss: 3.918591022491455 \t Acc: 35.6\n",
      "EarlyStopping counter: 1 out of 10\n"
     ]
    },
    {
     "output_type": "stream",
     "name": "stderr",
     "text": [
      "\n",
      "282it [00:53,  5.31it/s]\n",
      "4it [00:01,  2.59it/s]"
     ]
    },
    {
     "output_type": "stream",
     "name": "stdout",
     "text": [
      "[66/250] Loss: 3.950996696949005 \t Acc: 34.8\n",
      "EarlyStopping counter: 2 out of 10\n"
     ]
    },
    {
     "output_type": "stream",
     "name": "stderr",
     "text": [
      "\n",
      "282it [00:53,  5.31it/s]\n",
      "4it [00:01,  2.52it/s]"
     ]
    },
    {
     "output_type": "stream",
     "name": "stdout",
     "text": [
      "[67/250] Loss: 3.828134775161743 \t Acc: 36.4\n",
      "EarlyStopping counter: 3 out of 10\n"
     ]
    },
    {
     "output_type": "stream",
     "name": "stderr",
     "text": [
      "\n",
      "282it [00:53,  5.31it/s]\n",
      "4it [00:01,  2.57it/s]"
     ]
    },
    {
     "output_type": "stream",
     "name": "stdout",
     "text": [
      "[68/250] Loss: 3.7998949885368347 \t Acc: 37.2\n",
      "EarlyStopping counter: 4 out of 10\n"
     ]
    },
    {
     "output_type": "stream",
     "name": "stderr",
     "text": [
      "\n",
      "282it [00:53,  5.30it/s]\n",
      "4it [00:01,  2.57it/s]"
     ]
    },
    {
     "output_type": "stream",
     "name": "stdout",
     "text": [
      "[69/250] Loss: 3.8688319325447083 \t Acc: 39.4\n",
      "EarlyStopping counter: 5 out of 10\n"
     ]
    },
    {
     "output_type": "stream",
     "name": "stderr",
     "text": [
      "\n",
      "282it [00:53,  5.31it/s]\n",
      "4it [00:01,  2.55it/s]"
     ]
    },
    {
     "output_type": "stream",
     "name": "stdout",
     "text": [
      "[70/250] Loss: 3.921475887298584 \t Acc: 36.2\n",
      "EarlyStopping counter: 6 out of 10\n"
     ]
    },
    {
     "output_type": "stream",
     "name": "stderr",
     "text": [
      "\n",
      "282it [00:53,  5.31it/s]\n",
      "4it [00:01,  2.54it/s]"
     ]
    },
    {
     "output_type": "stream",
     "name": "stdout",
     "text": [
      "[71/250] Loss: 3.9739432334899902 \t Acc: 36.8\n",
      "EarlyStopping counter: 7 out of 10\n"
     ]
    },
    {
     "output_type": "stream",
     "name": "stderr",
     "text": [
      "\n",
      "282it [00:53,  5.31it/s]\n",
      "4it [00:01,  2.55it/s]"
     ]
    },
    {
     "output_type": "stream",
     "name": "stdout",
     "text": [
      "[72/250] Loss: 3.9036930799484253 \t Acc: 36.6\n",
      "EarlyStopping counter: 8 out of 10\n"
     ]
    },
    {
     "output_type": "stream",
     "name": "stderr",
     "text": [
      "\n",
      "282it [00:53,  5.30it/s]\n",
      "4it [00:01,  2.54it/s]"
     ]
    },
    {
     "output_type": "stream",
     "name": "stdout",
     "text": [
      "[73/250] Loss: 3.884511351585388 \t Acc: 38.6\n",
      "EarlyStopping counter: 9 out of 10\n"
     ]
    },
    {
     "output_type": "stream",
     "name": "stderr",
     "text": [
      "\n",
      "282it [00:53,  5.30it/s]\n",
      "4it [00:01,  2.57it/s]"
     ]
    },
    {
     "output_type": "stream",
     "name": "stdout",
     "text": [
      "[74/250] Loss: 4.0045188665390015 \t Acc: 35.4\n",
      "EarlyStopping counter: 10 out of 10\n",
      "Early stopping\n",
      "====================\n",
      "Training finished !!\n",
      "====================\n"
     ]
    },
    {
     "output_type": "stream",
     "name": "stderr",
     "text": [
      "\n"
     ]
    }
   ],
   "metadata": {
    "jupyter": {
     "outputs_hidden": true
    },
    "tags": []
   }
  },
  {
   "cell_type": "code",
   "execution_count": null,
   "source": [],
   "outputs": [],
   "metadata": {}
  },
  {
   "cell_type": "code",
   "execution_count": null,
   "source": [],
   "outputs": [],
   "metadata": {}
  },
  {
   "cell_type": "code",
   "execution_count": 26,
   "source": [
    "class medical_dataset_test(Dataset):\n",
    "    def __init__(self, config=None, answer_map=None, image_path='./dataset/Task1-VQA-2021-TestSet-w-GroundTruth/VQA-500-Images/', qa_file=\"./dataset/Task1-VQA-2021-TestSet-w-GroundTruth/Task1-VQA-2021-TestSet-Questions.txt\", train=True):\n",
    "            \n",
    "        assert answer_map!=None\n",
    "        assert config!=None\n",
    "        \n",
    "        self.image_path = image_path\n",
    "        self.qa_file = qa_file\n",
    "        self.config = config\n",
    "        self.train = train\n",
    "        \n",
    "        self.answer_map = answer_map\n",
    "        self.data = pd.read_csv(qa_file, sep='|', names=['imageid', 'question'])\n",
    "           \n",
    "        # print(Counter(self.data.answer.tolist()))\n",
    "        \n",
    "        self.transforms = transforms.Compose([\n",
    "                                transforms.RandomResizedCrop(224),\n",
    "                                transforms.ToTensor(),\n",
    "                                transforms.Normalize([0.485, 0.456, 0.406], [0.229, 0.224, 0.225])\n",
    "                            ])\n",
    "        self.tokenizer = tokenizer = AutoTokenizer.from_pretrained(\"dmis-lab/biobert-v1.1\")\n",
    "\n",
    "    def process_data(self, text, max_len):\n",
    "        text = str(text)\n",
    "\n",
    "        inputs = self.tokenizer.encode_plus(\n",
    "            text,\n",
    "            None,\n",
    "            add_special_tokens=True,\n",
    "            max_length=max_len,\n",
    "            truncation=True\n",
    "        )\n",
    "        ids = inputs[\"input_ids\"]\n",
    "        mask = inputs[\"attention_mask\"]\n",
    "        \n",
    "        padding_length = max_len - len(ids)\n",
    "        \n",
    "        ids = ids + ([0] * padding_length)\n",
    "        mask = mask + ([0] * padding_length)\n",
    "        \n",
    "        return {\n",
    "            'ids': torch.tensor(ids, dtype=torch.long),\n",
    "            'mask': torch.tensor(mask, dtype=torch.long),\n",
    "        }\n",
    "    \n",
    "    \n",
    "    def __getitem__(self, index):\n",
    "        \n",
    "        question = self.data.question[index]\n",
    "        image_idx = self.data.imageid[index]\n",
    "        \n",
    "        ## add visual feature related steps\n",
    "        visuals = Image.open(join(self.image_path, f'{image_idx}.jpg'))\n",
    "        visuals = self.transforms(visuals)\n",
    "        \n",
    "        \n",
    "        tmp = self.process_data(question, self.config['max_len'])\n",
    "        question_tokens = {\n",
    "            'ids': tmp['ids'],\n",
    "            'mask': tmp['mask'],\n",
    "        }\n",
    "        \n",
    "        return visuals, question_tokens, image_idx\n",
    "\n",
    "    def __len__(self):\n",
    "        return len(self.data)"
   ],
   "outputs": [],
   "metadata": {}
  },
  {
   "cell_type": "code",
   "execution_count": null,
   "source": [],
   "outputs": [],
   "metadata": {}
  },
  {
   "cell_type": "code",
   "execution_count": null,
   "source": [],
   "outputs": [],
   "metadata": {}
  },
  {
   "cell_type": "code",
   "execution_count": 27,
   "source": [
    "TestData = medical_dataset_test(config=cfg, answer_map=answer_map)\n",
    "TestDataLoader = DataLoader(TestData, batch_size=128, shuffle=False, num_workers=4)  # num_workers=0 for windows OS"
   ],
   "outputs": [],
   "metadata": {}
  },
  {
   "cell_type": "code",
   "execution_count": 28,
   "source": [
    "inv_map = {v: k for k, v in answer_map.items()}"
   ],
   "outputs": [],
   "metadata": {}
  },
  {
   "cell_type": "code",
   "execution_count": 29,
   "source": [
    "trainer.model.load_state_dict(torch.load('./models/checkpoint.pt'))\n",
    "trainer.model.eval()\n",
    "        \n",
    "imageids = []\n",
    "answers = []\n",
    "\n",
    "running_loss = 0.0\n",
    "correct = 0\n",
    "total = 0\n",
    "with torch.no_grad():\n",
    "    for en, (visuals, question, target) in tqdm(enumerate(TestDataLoader)):\n",
    "        visuals = visuals.to(trainer.device)\n",
    "\n",
    "        ids = question['ids'].to(trainer.device)\n",
    "        mask = question['mask'].to(trainer.device)\n",
    "\n",
    "        outputs = trainer.model(visuals, ids, mask)\n",
    "\n",
    "        y_pred_softmax = torch.log_softmax(outputs, dim = 1)\n",
    "        _, y_pred_tags = torch.max(y_pred_softmax, dim = 1)\n",
    "        # self.tmp_sv_ = y_pred_tags\n",
    "        \n",
    "        for i in range(visuals.shape[0]):\n",
    "            imageids.append(target[i])\n",
    "            answers.append(inv_map[int(y_pred_tags[i])])\n"
   ],
   "outputs": [
    {
     "output_type": "stream",
     "name": "stderr",
     "text": [
      "4it [00:01,  2.42it/s]\n"
     ]
    }
   ],
   "metadata": {}
  },
  {
   "cell_type": "code",
   "execution_count": 30,
   "source": [
    "answers[:5]"
   ],
   "outputs": [
    {
     "output_type": "execute_result",
     "data": {
      "text/plain": [
       "['sickle cell disease',\n",
       " 'pulmonary embolism',\n",
       " 'nonossifying fibroma',\n",
       " 'choledocholithiasis',\n",
       " 'lateral femoral notch sign']"
      ]
     },
     "metadata": {},
     "execution_count": 30
    }
   ],
   "metadata": {
    "tags": []
   }
  },
  {
   "cell_type": "code",
   "execution_count": 31,
   "source": [
    "pd.DataFrame({'imageids':imageids, 'answers':answers}).to_csv('resnet18_fusion-MLB.txt', sep='|', index=False, header=False)"
   ],
   "outputs": [],
   "metadata": {}
  },
  {
   "cell_type": "code",
   "execution_count": null,
   "source": [],
   "outputs": [],
   "metadata": {}
  },
  {
   "cell_type": "code",
   "execution_count": null,
   "source": [],
   "outputs": [],
   "metadata": {}
  }
 ],
 "metadata": {
  "kernelspec": {
   "display_name": "Python 3 (ipykernel)",
   "language": "python",
   "name": "python3"
  },
  "language_info": {
   "codemirror_mode": {
    "name": "ipython",
    "version": 3
   },
   "file_extension": ".py",
   "mimetype": "text/x-python",
   "name": "python",
   "nbconvert_exporter": "python",
   "pygments_lexer": "ipython3",
   "version": "3.8.10"
  }
 },
 "nbformat": 4,
 "nbformat_minor": 5
}