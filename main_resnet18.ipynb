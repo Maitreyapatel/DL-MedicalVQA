{
 "cells": [
  {
   "cell_type": "code",
   "execution_count": 1,
   "id": "22bedcab",
   "metadata": {},
   "outputs": [],
   "source": [
    "import os\n",
    "os.environ[\"TOKENIZERS_PARALLELISM\"] = \"false\""
   ]
  },
  {
   "cell_type": "code",
   "execution_count": 2,
   "id": "2ac28ffc-05b6-4fd7-a584-0ae24a20d07d",
   "metadata": {},
   "outputs": [],
   "source": [
    "import warnings\n",
    "warnings.filterwarnings(\"ignore\")"
   ]
  },
  {
   "cell_type": "code",
   "execution_count": 3,
   "id": "261a1f30",
   "metadata": {},
   "outputs": [],
   "source": [
    "import numpy as np\n",
    "import sys\n",
    "from os import listdir, makedirs, getcwd, remove\n",
    "from os.path import isfile, join, abspath, exists, isdir, expanduser\n",
    "from scipy.io import loadmat\n",
    "from PIL import Image\n",
    "import pandas as pd\n",
    "\n",
    "import torch\n",
    "from torch.utils.data import Dataset, DataLoader\n",
    "from torchvision.transforms import transforms\n",
    "\n",
    "\n",
    "import pickle\n",
    "from tqdm import tqdm\n",
    "import json\n",
    "import random\n",
    "from collections import Counter\n",
    "\n",
    "from transformers import get_linear_schedule_with_warmup\n",
    "from transformers import AutoTokenizer, AutoModel"
   ]
  },
  {
   "cell_type": "code",
   "execution_count": 4,
   "id": "2caa207d",
   "metadata": {},
   "outputs": [],
   "source": [
    "import torch\n",
    "from torch.autograd import Variable\n",
    "import torch.nn as nn\n",
    "import torch.autograd as autograd\n",
    "from torch.utils.data import Dataset, DataLoader\n",
    "import torch.utils.data as data\n",
    "import torch.nn.functional as F\n",
    "import torch.optim as optim\n",
    "import itertools\n",
    "\n",
    "import torchvision\n",
    "from torchvision import transforms, datasets, models\n",
    "from torch import Tensor\n",
    "\n",
    "from torch.utils.tensorboard import SummaryWriter"
   ]
  },
  {
   "cell_type": "code",
   "execution_count": 5,
   "id": "b1a865ae",
   "metadata": {},
   "outputs": [],
   "source": [
    "import transformers\n",
    "import tokenizers\n",
    "from transformers import BertTokenizer, BertModel"
   ]
  },
  {
   "cell_type": "code",
   "execution_count": 6,
   "id": "3711f483-5a00-4c36-8bf5-5467d16446fb",
   "metadata": {},
   "outputs": [],
   "source": [
    "cfg = {\n",
    "    'max_len': 128,\n",
    "    'lr': 2e-5,\n",
    "    'warmup_steps': 5,\n",
    "    'epochs': 250\n",
    "}"
   ]
  },
  {
   "cell_type": "code",
   "execution_count": null,
   "id": "361ec734-2978-46d2-891d-6af0bd2e6b25",
   "metadata": {},
   "outputs": [],
   "source": []
  },
  {
   "cell_type": "code",
   "execution_count": null,
   "id": "da8d4705-76e7-413b-888e-6e9e651d2b11",
   "metadata": {},
   "outputs": [],
   "source": []
  },
  {
   "cell_type": "code",
   "execution_count": null,
   "id": "62c1b29e-5c21-4331-840d-a4b9b60ac4d7",
   "metadata": {},
   "outputs": [],
   "source": []
  },
  {
   "cell_type": "code",
   "execution_count": 7,
   "id": "bda850c2",
   "metadata": {},
   "outputs": [],
   "source": [
    "class medical_dataset(Dataset):\n",
    "    def __init__(self, config=None, answer_map=None, image_path='./dataset/TrainingDataset/images/', qa_file=\"./dataset/TrainingDataset/training_qa.txt\", train=True):\n",
    "            \n",
    "        assert answer_map!=None\n",
    "        assert config!=None\n",
    "        \n",
    "        self.image_path = image_path\n",
    "        self.qa_file = qa_file\n",
    "        self.config = config\n",
    "        self.train = train\n",
    "        \n",
    "        self.answer_map = answer_map\n",
    "        self.data = pd.read_csv(qa_file, sep='|', names=['imageid', 'question', 'answer'])\n",
    "           \n",
    "        # print(Counter(self.data.answer.tolist()))\n",
    "        \n",
    "        self.transforms = transforms.Compose([\n",
    "                                transforms.RandomResizedCrop(224),\n",
    "                                transforms.ToTensor(),\n",
    "                                transforms.Normalize([0.485, 0.456, 0.406], [0.229, 0.224, 0.225])\n",
    "                            ])\n",
    "        self.tokenizer = tokenizer = AutoTokenizer.from_pretrained(\"dmis-lab/biobert-v1.1\")\n",
    "\n",
    "    def process_data(self, text, max_len):\n",
    "        text = str(text)\n",
    "\n",
    "        inputs = self.tokenizer.encode_plus(\n",
    "            text,\n",
    "            None,\n",
    "            add_special_tokens=True,\n",
    "            max_length=max_len,\n",
    "            truncation=True\n",
    "        )\n",
    "        ids = inputs[\"input_ids\"]\n",
    "        mask = inputs[\"attention_mask\"]\n",
    "        \n",
    "        padding_length = max_len - len(ids)\n",
    "        \n",
    "        ids = ids + ([0] * padding_length)\n",
    "        mask = mask + ([0] * padding_length)\n",
    "        \n",
    "        return {\n",
    "            'ids': torch.tensor(ids, dtype=torch.long),\n",
    "            'mask': torch.tensor(mask, dtype=torch.long),\n",
    "        }\n",
    "    \n",
    "    \n",
    "    def __getitem__(self, index):\n",
    "        \n",
    "        question = self.data.question[index]\n",
    "        answer = self.data.answer[index]\n",
    "        image_idx = self.data.imageid[index]\n",
    "        \n",
    "        ## add visual feature related steps\n",
    "        visuals = Image.open(join(self.image_path, f'{image_idx}.jpg'))\n",
    "        visuals = self.transforms(visuals)\n",
    "        \n",
    "        target = torch.from_numpy(np.array([self.answer_map[answer]])).long()\n",
    "        \n",
    "        tmp = self.process_data(question, self.config['max_len'])\n",
    "        question_tokens = {\n",
    "            'ids': tmp['ids'],\n",
    "            'mask': tmp['mask'],\n",
    "        }\n",
    "        \n",
    "        return visuals, question_tokens, target\n",
    "\n",
    "    def __len__(self):\n",
    "        return len(self.data)"
   ]
  },
  {
   "cell_type": "code",
   "execution_count": 8,
   "id": "87d719ac-8530-4476-b916-fa15d50180a1",
   "metadata": {},
   "outputs": [],
   "source": [
    "# file_path = './dataset/TrainingDataset/training_qa.txt'\n",
    "# data = pd.read_csv(file_path, sep='|', names=['imageid', 'question', 'answer'])\n",
    "# data.head()"
   ]
  },
  {
   "cell_type": "code",
   "execution_count": 9,
   "id": "1f7e3956",
   "metadata": {},
   "outputs": [],
   "source": [
    "# answer_map = {}\n",
    "# ct = 0\n",
    "\n",
    "# for i in data.answer.unique():\n",
    "#     answer_map[i] = ct\n",
    "#     ct+=1"
   ]
  },
  {
   "cell_type": "code",
   "execution_count": 10,
   "id": "26648cec-3412-4e3a-8565-2e1b0c55acc9",
   "metadata": {},
   "outputs": [],
   "source": [
    "# with open('./answer_map.pickle', 'wb') as handle:\n",
    "#     pickle.dump(answer_map, handle, protocol=pickle.HIGHEST_PROTOCOL)\n",
    "    "
   ]
  },
  {
   "cell_type": "code",
   "execution_count": 11,
   "id": "f463d0db",
   "metadata": {},
   "outputs": [
    {
     "data": {
      "text/plain": [
       "333"
      ]
     },
     "execution_count": 11,
     "metadata": {},
     "output_type": "execute_result"
    }
   ],
   "source": [
    "with open('./answer_map.pickle', 'rb') as handle:\n",
    "    answer_map = pickle.load(handle)\n",
    "    \n",
    "len(answer_map)"
   ]
  },
  {
   "cell_type": "code",
   "execution_count": 12,
   "id": "b24d4cb4",
   "metadata": {},
   "outputs": [],
   "source": [
    "TrainData = medical_dataset(config=cfg, answer_map=answer_map, image_path='./dataset/VQA-Med-2020-Task1-VQAnswering-TrainVal-Sets/VQAMed2020-VQAnswering-TrainingSet/VQAnswering_2020_Train_images/', qa_file='./dataset/VQA-Med-2020-Task1-VQAnswering-TrainVal-Sets/VQAMed2020-VQAnswering-TrainingSet/VQAnswering_2020_Train_QA_pairs.txt')\n",
    "ValData = medical_dataset(config=cfg, answer_map=answer_map, image_path='./dataset/VQA-Med-2020-Task1-VQAnswering-TrainVal-Sets/VQAMed2020-VQAnswering-ValidationSet/VQAnswering_2020_Val_images/', qa_file='./dataset/VQA-Med-2020-Task1-VQAnswering-TrainVal-Sets/VQAMed2020-VQAnswering-ValidationSet/VQAnswering_2020_Val_QA_Pairs.txt', train=False)"
   ]
  },
  {
   "cell_type": "code",
   "execution_count": 13,
   "id": "6f3d1708",
   "metadata": {},
   "outputs": [
    {
     "name": "stdout",
     "output_type": "stream",
     "text": [
      "CPU times: user 29.8 ms, sys: 0 ns, total: 29.8 ms\n",
      "Wall time: 27.6 ms\n"
     ]
    }
   ],
   "source": [
    "%%time\n",
    "a,b,c = ValData.__getitem__(0)"
   ]
  },
  {
   "cell_type": "code",
   "execution_count": 14,
   "id": "25ca53cf",
   "metadata": {},
   "outputs": [],
   "source": [
    "TrainDataLoader = DataLoader(TrainData, batch_size=16, shuffle=True, num_workers=4)  # num_workers=0 for windows OS\n",
    "ValDataLoader = DataLoader(ValData, batch_size=128, shuffle=False, num_workers=4)  # num_workers=0 for windows OS"
   ]
  },
  {
   "cell_type": "code",
   "execution_count": 15,
   "id": "26fcd6ac",
   "metadata": {},
   "outputs": [],
   "source": [
    "class mednet(nn.Module):\n",
    "    def __init__(self, config, max_labels):\n",
    "        super(mednet, self).__init__()\n",
    "        self.vision = models.resnet18(pretrained=True)\n",
    "        num_ftrs = self.vision.fc.in_features\n",
    "        \n",
    "        self.vision = nn.Sequential(*lis t(self.vision.children())[:-1])        \n",
    "        \n",
    "        self.fc1 = nn.Linear(num_ftrs, 128)\n",
    "        self.fc2 = nn.Linear(128, max_labels)\n",
    "        \n",
    "\n",
    "    def forward(self, visual=None, ids=None, mask=None):\n",
    "        h = self.vision(visual).view((visual.shape[0], -1))        \n",
    "        h = F.relu(self.fc1(h))\n",
    "        h = self.fc2(h)\n",
    "        return h\n"
   ]
  },
  {
   "cell_type": "code",
   "execution_count": 16,
   "id": "53dba468",
   "metadata": {
    "code_folding": []
   },
   "outputs": [],
   "source": [
    "class EarlyStopping:\n",
    "    \"\"\"Early stops the training if validation loss doesn't improve after a given patience.\"\"\"\n",
    "    def __init__(self,\n",
    "                 patience=7,\n",
    "                 verbose=False,\n",
    "                 delta=0,\n",
    "                 path='./models/resnet18/checkpoint.pt',\n",
    "                 trace_func=print):\n",
    "        \"\"\"\n",
    "        Args:\n",
    "            patience (int): How long to wait after last time validation loss improved.\n",
    "                            Default: 7\n",
    "            verbose (bool): If True, prints a message for each validation loss improvement. \n",
    "                            Default: False\n",
    "            delta (float): Minimum change in the monitored quantity to qualify as an improvement.\n",
    "                            Default: 0\n",
    "            path (str): Path for the checkpoint to be saved to.\n",
    "                            Default: 'checkpoint.pt'\n",
    "            trace_func (function): trace print function.\n",
    "                            Default: print            \n",
    "        \"\"\"\n",
    "        self.patience = patience\n",
    "        self.verbose = verbose\n",
    "        self.counter = 0\n",
    "        self.best_score = None\n",
    "        self.early_stop = False\n",
    "        self.val_loss_min = np.Inf\n",
    "        self.delta = delta\n",
    "        self.path = path\n",
    "        self.trace_func = trace_func\n",
    "\n",
    "    def __call__(self, val_loss, model):\n",
    "\n",
    "        score = -val_loss\n",
    "\n",
    "        if self.best_score is None:\n",
    "            self.best_score = score\n",
    "            self.save_checkpoint(val_loss, model)\n",
    "        elif score < self.best_score + self.delta:\n",
    "            self.counter += 1\n",
    "            self.trace_func(\n",
    "                f'EarlyStopping counter: {self.counter} out of {self.patience}'\n",
    "            )\n",
    "            if self.counter >= self.patience:\n",
    "                self.early_stop = True\n",
    "        else:\n",
    "            self.best_score = score\n",
    "            self.save_checkpoint(val_loss, model)\n",
    "            self.counter = 0\n",
    "\n",
    "    def save_checkpoint(self, val_loss, model):\n",
    "        '''Saves model when validation loss decrease.'''\n",
    "        if self.verbose:\n",
    "            self.trace_func(\n",
    "                f'Validation loss decreased ({self.val_loss_min:.6f} --> {val_loss:.6f}).  Saving model ...'\n",
    "            )\n",
    "        torch.save(model.state_dict(), self.path)\n",
    "        self.val_loss_min = val_loss"
   ]
  },
  {
   "cell_type": "code",
   "execution_count": 17,
   "id": "8cc3829f",
   "metadata": {},
   "outputs": [],
   "source": [
    "class Trainer:\n",
    "    def __init__(self,\n",
    "                 trainloader,\n",
    "                 vallaoder,\n",
    "                 model_ft,\n",
    "                 writer=None,\n",
    "                 testloader=None,\n",
    "                 checkpoint_path=None,\n",
    "                 patience=10,\n",
    "                 feature_extract=True,\n",
    "                 print_itr=50,\n",
    "                 config=None):\n",
    "        self.trainloader = trainloader\n",
    "        self.valloader = vallaoder\n",
    "        self.testloader = testloader\n",
    "        \n",
    "        self.config=config\n",
    "\n",
    "        self.device = torch.device(\n",
    "            \"cuda\" if torch.cuda.is_available() else \"cpu\")\n",
    "\n",
    "        print(\"==\" * 10)\n",
    "        print(\"Training will be done on \", self.device)\n",
    "        print(\"==\" * 10)\n",
    "\n",
    "        self.model = model_ft        \n",
    "        if torch.cuda.device_count() > 1:\n",
    "            print(\"Let's use\", torch.cuda.device_count(), \"GPUs!\")\n",
    "            self.model = nn.DataParallel(self.model, device_ids=[i for i in range(torch.cuda.device_count())])\n",
    "        \n",
    "        self.model = self.model.to(self.device)\n",
    "        \n",
    "        \n",
    "        # Observe that all parameters are being optimized\n",
    "        self.optimizer = optim.RAdam(self.model.parameters(), lr=self.config['lr'])\n",
    "        \n",
    "        self.scheduler = get_linear_schedule_with_warmup(self.optimizer, \n",
    "                                            num_warmup_steps = len(self.trainloader)*self.config['warmup_steps'], # Default value in run_glue.py\n",
    "                                            num_training_steps = len(self.trainloader)*self.config['epochs'])\n",
    "\n",
    "        \n",
    "        self.criterion = nn.CrossEntropyLoss()\n",
    "        self.early_stopping = EarlyStopping(patience=patience, verbose=True)\n",
    "        self.writer = writer\n",
    "        self.print_itr = print_itr\n",
    "\n",
    "    def train(self, ep):\n",
    "        self.model.train()\n",
    "\n",
    "        running_loss = 0.0\n",
    "\n",
    "        for en, (visuals, question, target) in tqdm(enumerate(self.trainloader)):\n",
    "            self.optimizer.zero_grad()\n",
    "            \n",
    "            visuals = visuals.to(self.device)\n",
    "            y = target.squeeze().to(self.device)\n",
    "            \n",
    "            outputs = self.model(visuals)\n",
    "            loss = self.criterion(outputs, y)\n",
    "            loss.backward()\n",
    "            self.optimizer.step()\n",
    "            self.scheduler.step()\n",
    "\n",
    "            running_loss += loss.item()\n",
    "            if self.writer:\n",
    "                self.writer.add_scalar('Train Loss', running_loss, ep*len(self.trainloader) + en)\n",
    "            running_loss = 0\n",
    "            \n",
    "\n",
    "    def validate(self, ep):\n",
    "        self.model.eval()\n",
    "        \n",
    "        running_loss = 0.0\n",
    "        correct = 0\n",
    "        total = 0\n",
    "        with torch.no_grad():\n",
    "            for en, (visuals, question, target) in tqdm(enumerate(self.valloader)):\n",
    "                visuals = visuals.to(self.device)\n",
    "                y = target.squeeze().to(self.device)\n",
    "                \n",
    "                outputs = self.model(visuals)\n",
    "                loss = self.criterion(outputs, y)\n",
    "\n",
    "                y_pred_softmax = torch.log_softmax(outputs, dim = 1)\n",
    "                _, y_pred_tags = torch.max(y_pred_softmax, dim = 1)\n",
    "                # self.tmp_sv_ = y_pred_tags\n",
    "                \n",
    "                correct += (y_pred_tags.detach().cpu().data.numpy() == y.detach().cpu().data.numpy()).sum()\n",
    "                total += y_pred_tags.shape[0]\n",
    "                \n",
    "                # print statistics\n",
    "                running_loss += loss.item()\n",
    "        \n",
    "        \n",
    "        return running_loss / len(self.valloader), correct*100/total\n",
    "\n",
    "    def perform_training(self, total_epoch):\n",
    "        val_loss, acc = self.validate(0)\n",
    "\n",
    "        print(\"[Initial Validation results] Loss: {} \\t Acc: {}\".format(\n",
    "            val_loss, acc))\n",
    "\n",
    "        for i in range(total_epoch):\n",
    "            self.train(i + 1)\n",
    "            val_loss, acc = self.validate(i + 1)\n",
    "            print('[{}/{}] Loss: {} \\t Acc: {}'.format(i+1, total_epoch, val_loss, acc))\n",
    "\n",
    "            if self.writer:\n",
    "                self.writer.add_scalar('Validation Loss', val_loss, (i + 1))\n",
    "                self.writer.add_scalar('Validation Acc', acc, (i + 1))\n",
    "\n",
    "            self.early_stopping(-acc, self.model)\n",
    "\n",
    "            if self.early_stopping.early_stop:\n",
    "                print(\"Early stopping\")\n",
    "                break\n",
    "\n",
    "        print(\"=\" * 20)\n",
    "        print(\"Training finished !!\")\n",
    "        print(\"=\" * 20)\n"
   ]
  },
  {
   "cell_type": "code",
   "execution_count": 18,
   "id": "41cf8b0c",
   "metadata": {},
   "outputs": [
    {
     "name": "stdout",
     "output_type": "stream",
     "text": [
      "====================\n",
      "Training will be done on  cuda\n",
      "====================\n",
      "Let's use 2 GPUs!\n"
     ]
    }
   ],
   "source": [
    "model_ft = mednet(config=cfg, max_labels=len(answer_map))\n",
    "writer = SummaryWriter('runs/resnet18_run_1')\n",
    "trainer = Trainer(TrainDataLoader, ValDataLoader, model_ft, writer=writer, config=cfg)"
   ]
  },
  {
   "cell_type": "code",
   "execution_count": 19,
   "id": "78feeab8",
   "metadata": {
    "jupyter": {
     "outputs_hidden": true
    },
    "tags": []
   },
   "outputs": [
    {
     "name": "stderr",
     "output_type": "stream",
     "text": [
      "4it [00:03,  1.13it/s]"
     ]
    },
    {
     "name": "stdout",
     "output_type": "stream",
     "text": [
      "[Initial Validation results] Loss: 5.813371181488037 \t Acc: 0.6\n"
     ]
    },
    {
     "name": "stderr",
     "output_type": "stream",
     "text": [
      "\n",
      "250it [00:08, 30.68it/s]\n",
      "4it [00:01,  3.63it/s]\n"
     ]
    },
    {
     "name": "stdout",
     "output_type": "stream",
     "text": [
      "[1/250] Loss: 5.801670432090759 \t Acc: 0.6\n",
      "Validation loss decreased (inf --> -0.600000).  Saving model ...\n"
     ]
    },
    {
     "name": "stderr",
     "output_type": "stream",
     "text": [
      "250it [00:07, 31.72it/s]\n",
      "4it [00:01,  3.77it/s]"
     ]
    },
    {
     "name": "stdout",
     "output_type": "stream",
     "text": [
      "[2/250] Loss: 5.7813321352005005 \t Acc: 0.2\n",
      "EarlyStopping counter: 1 out of 10\n"
     ]
    },
    {
     "name": "stderr",
     "output_type": "stream",
     "text": [
      "\n",
      "250it [00:07, 31.39it/s]\n",
      "4it [00:01,  3.67it/s]\n"
     ]
    },
    {
     "name": "stdout",
     "output_type": "stream",
     "text": [
      "[3/250] Loss: 5.748850226402283 \t Acc: 0.6\n",
      "Validation loss decreased (-0.600000 --> -0.600000).  Saving model ...\n"
     ]
    },
    {
     "name": "stderr",
     "output_type": "stream",
     "text": [
      "250it [00:08, 31.22it/s]\n",
      "4it [00:01,  3.67it/s]\n"
     ]
    },
    {
     "name": "stdout",
     "output_type": "stream",
     "text": [
      "[4/250] Loss: 5.704672455787659 \t Acc: 2.0\n",
      "Validation loss decreased (-0.600000 --> -2.000000).  Saving model ...\n"
     ]
    },
    {
     "name": "stderr",
     "output_type": "stream",
     "text": [
      "250it [00:07, 31.53it/s]\n",
      "4it [00:01,  3.77it/s]\n"
     ]
    },
    {
     "name": "stdout",
     "output_type": "stream",
     "text": [
      "[5/250] Loss: 5.635384559631348 \t Acc: 3.4\n",
      "Validation loss decreased (-2.000000 --> -3.400000).  Saving model ...\n"
     ]
    },
    {
     "name": "stderr",
     "output_type": "stream",
     "text": [
      "250it [00:07, 31.39it/s]\n",
      "4it [00:01,  3.63it/s]\n"
     ]
    },
    {
     "name": "stdout",
     "output_type": "stream",
     "text": [
      "[6/250] Loss: 5.528140306472778 \t Acc: 5.2\n",
      "Validation loss decreased (-3.400000 --> -5.200000).  Saving model ...\n"
     ]
    },
    {
     "name": "stderr",
     "output_type": "stream",
     "text": [
      "250it [00:07, 31.82it/s]\n",
      "4it [00:01,  3.75it/s]\n"
     ]
    },
    {
     "name": "stdout",
     "output_type": "stream",
     "text": [
      "[7/250] Loss: 5.426574110984802 \t Acc: 5.6\n",
      "Validation loss decreased (-5.200000 --> -5.600000).  Saving model ...\n"
     ]
    },
    {
     "name": "stderr",
     "output_type": "stream",
     "text": [
      "250it [00:07, 31.32it/s]\n",
      "4it [00:01,  3.64it/s]\n"
     ]
    },
    {
     "name": "stdout",
     "output_type": "stream",
     "text": [
      "[8/250] Loss: 5.252291202545166 \t Acc: 6.2\n",
      "Validation loss decreased (-5.600000 --> -6.200000).  Saving model ...\n"
     ]
    },
    {
     "name": "stderr",
     "output_type": "stream",
     "text": [
      "250it [00:08, 31.11it/s]\n",
      "4it [00:01,  3.81it/s]"
     ]
    },
    {
     "name": "stdout",
     "output_type": "stream",
     "text": [
      "[9/250] Loss: 5.149539589881897 \t Acc: 7.6\n",
      "Validation loss decreased (-6.200000 --> -7.600000).  Saving model ...\n"
     ]
    },
    {
     "name": "stderr",
     "output_type": "stream",
     "text": [
      "\n",
      "250it [00:08, 31.21it/s]\n",
      "4it [00:01,  3.78it/s]"
     ]
    },
    {
     "name": "stdout",
     "output_type": "stream",
     "text": [
      "[10/250] Loss: 5.029486179351807 \t Acc: 9.0\n",
      "Validation loss decreased (-7.600000 --> -9.000000).  Saving model ...\n"
     ]
    },
    {
     "name": "stderr",
     "output_type": "stream",
     "text": [
      "\n",
      "250it [00:07, 31.26it/s]\n",
      "4it [00:01,  3.64it/s]\n"
     ]
    },
    {
     "name": "stdout",
     "output_type": "stream",
     "text": [
      "[11/250] Loss: 4.9453946352005005 \t Acc: 9.2\n",
      "Validation loss decreased (-9.000000 --> -9.200000).  Saving model ...\n"
     ]
    },
    {
     "name": "stderr",
     "output_type": "stream",
     "text": [
      "250it [00:08, 31.23it/s]\n",
      "4it [00:01,  3.76it/s]\n"
     ]
    },
    {
     "name": "stdout",
     "output_type": "stream",
     "text": [
      "[12/250] Loss: 4.851119756698608 \t Acc: 9.6\n",
      "Validation loss decreased (-9.200000 --> -9.600000).  Saving model ...\n"
     ]
    },
    {
     "name": "stderr",
     "output_type": "stream",
     "text": [
      "250it [00:07, 31.41it/s]\n",
      "4it [00:01,  3.74it/s]"
     ]
    },
    {
     "name": "stdout",
     "output_type": "stream",
     "text": [
      "[13/250] Loss: 4.751638174057007 \t Acc: 12.8\n",
      "Validation loss decreased (-9.600000 --> -12.800000).  Saving model ...\n"
     ]
    },
    {
     "name": "stderr",
     "output_type": "stream",
     "text": [
      "\n",
      "250it [00:07, 31.70it/s]\n",
      "4it [00:01,  3.77it/s]"
     ]
    },
    {
     "name": "stdout",
     "output_type": "stream",
     "text": [
      "[14/250] Loss: 4.726839303970337 \t Acc: 11.6\n",
      "EarlyStopping counter: 1 out of 10\n"
     ]
    },
    {
     "name": "stderr",
     "output_type": "stream",
     "text": [
      "\n",
      "250it [00:08, 31.15it/s]\n",
      "4it [00:01,  3.70it/s]"
     ]
    },
    {
     "name": "stdout",
     "output_type": "stream",
     "text": [
      "[15/250] Loss: 4.624054193496704 \t Acc: 11.0\n",
      "EarlyStopping counter: 2 out of 10\n"
     ]
    },
    {
     "name": "stderr",
     "output_type": "stream",
     "text": [
      "\n",
      "250it [00:07, 31.39it/s]\n",
      "4it [00:01,  3.57it/s]\n"
     ]
    },
    {
     "name": "stdout",
     "output_type": "stream",
     "text": [
      "[16/250] Loss: 4.481132984161377 \t Acc: 13.8\n",
      "Validation loss decreased (-12.800000 --> -13.800000).  Saving model ...\n"
     ]
    },
    {
     "name": "stderr",
     "output_type": "stream",
     "text": [
      "250it [00:08, 31.09it/s]\n",
      "4it [00:01,  3.73it/s]\n"
     ]
    },
    {
     "name": "stdout",
     "output_type": "stream",
     "text": [
      "[17/250] Loss: 4.495366096496582 \t Acc: 13.8\n",
      "Validation loss decreased (-13.800000 --> -13.800000).  Saving model ...\n"
     ]
    },
    {
     "name": "stderr",
     "output_type": "stream",
     "text": [
      "250it [00:08, 30.80it/s]\n",
      "4it [00:01,  3.56it/s]"
     ]
    },
    {
     "name": "stdout",
     "output_type": "stream",
     "text": [
      "[18/250] Loss: 4.421104192733765 \t Acc: 14.6\n",
      "Validation loss decreased (-13.800000 --> -14.600000).  Saving model ...\n"
     ]
    },
    {
     "name": "stderr",
     "output_type": "stream",
     "text": [
      "\n",
      "250it [00:08, 30.75it/s]\n",
      "4it [00:01,  3.61it/s]\n"
     ]
    },
    {
     "name": "stdout",
     "output_type": "stream",
     "text": [
      "[19/250] Loss: 4.384242057800293 \t Acc: 15.8\n",
      "Validation loss decreased (-14.600000 --> -15.800000).  Saving model ...\n"
     ]
    },
    {
     "name": "stderr",
     "output_type": "stream",
     "text": [
      "250it [00:08, 30.84it/s]\n",
      "4it [00:01,  3.74it/s]"
     ]
    },
    {
     "name": "stdout",
     "output_type": "stream",
     "text": [
      "[20/250] Loss: 4.301176428794861 \t Acc: 15.0\n",
      "EarlyStopping counter: 1 out of 10\n"
     ]
    },
    {
     "name": "stderr",
     "output_type": "stream",
     "text": [
      "\n",
      "250it [00:07, 31.28it/s]\n",
      "4it [00:01,  3.77it/s]"
     ]
    },
    {
     "name": "stdout",
     "output_type": "stream",
     "text": [
      "[21/250] Loss: 4.241750478744507 \t Acc: 17.2\n",
      "Validation loss decreased (-15.800000 --> -17.200000).  Saving model ...\n"
     ]
    },
    {
     "name": "stderr",
     "output_type": "stream",
     "text": [
      "\n",
      "250it [00:07, 31.46it/s]\n",
      "4it [00:01,  3.55it/s]\n"
     ]
    },
    {
     "name": "stdout",
     "output_type": "stream",
     "text": [
      "[22/250] Loss: 4.185140073299408 \t Acc: 17.2\n",
      "Validation loss decreased (-17.200000 --> -17.200000).  Saving model ...\n"
     ]
    },
    {
     "name": "stderr",
     "output_type": "stream",
     "text": [
      "250it [00:07, 31.36it/s]\n",
      "4it [00:01,  3.75it/s]"
     ]
    },
    {
     "name": "stdout",
     "output_type": "stream",
     "text": [
      "[23/250] Loss: 4.143294036388397 \t Acc: 18.4\n",
      "Validation loss decreased (-17.200000 --> -18.400000).  Saving model ...\n"
     ]
    },
    {
     "name": "stderr",
     "output_type": "stream",
     "text": [
      "\n",
      "250it [00:07, 31.37it/s]\n",
      "4it [00:01,  3.70it/s]\n"
     ]
    },
    {
     "name": "stdout",
     "output_type": "stream",
     "text": [
      "[24/250] Loss: 4.088014543056488 \t Acc: 19.0\n",
      "Validation loss decreased (-18.400000 --> -19.000000).  Saving model ...\n"
     ]
    },
    {
     "name": "stderr",
     "output_type": "stream",
     "text": [
      "250it [00:08, 31.16it/s]\n",
      "4it [00:01,  3.74it/s]"
     ]
    },
    {
     "name": "stdout",
     "output_type": "stream",
     "text": [
      "[25/250] Loss: 4.070830702781677 \t Acc: 19.6\n",
      "Validation loss decreased (-19.000000 --> -19.600000).  Saving model ...\n"
     ]
    },
    {
     "name": "stderr",
     "output_type": "stream",
     "text": [
      "\n",
      "250it [00:07, 31.59it/s]\n",
      "4it [00:01,  3.77it/s]"
     ]
    },
    {
     "name": "stdout",
     "output_type": "stream",
     "text": [
      "[26/250] Loss: 4.036144554615021 \t Acc: 19.4\n",
      "EarlyStopping counter: 1 out of 10\n"
     ]
    },
    {
     "name": "stderr",
     "output_type": "stream",
     "text": [
      "\n",
      "250it [00:08, 31.18it/s]\n",
      "4it [00:01,  3.73it/s]"
     ]
    },
    {
     "name": "stdout",
     "output_type": "stream",
     "text": [
      "[27/250] Loss: 4.0021931529045105 \t Acc: 19.2\n",
      "EarlyStopping counter: 2 out of 10\n"
     ]
    },
    {
     "name": "stderr",
     "output_type": "stream",
     "text": [
      "\n",
      "250it [00:08, 31.02it/s]\n",
      "4it [00:01,  3.76it/s]"
     ]
    },
    {
     "name": "stdout",
     "output_type": "stream",
     "text": [
      "[28/250] Loss: 3.9284478425979614 \t Acc: 19.6\n",
      "Validation loss decreased (-19.600000 --> -19.600000).  Saving model ...\n"
     ]
    },
    {
     "name": "stderr",
     "output_type": "stream",
     "text": [
      "\n",
      "250it [00:08, 30.91it/s]\n",
      "4it [00:01,  3.60it/s]\n"
     ]
    },
    {
     "name": "stdout",
     "output_type": "stream",
     "text": [
      "[29/250] Loss: 3.9365466237068176 \t Acc: 20.6\n",
      "Validation loss decreased (-19.600000 --> -20.600000).  Saving model ...\n"
     ]
    },
    {
     "name": "stderr",
     "output_type": "stream",
     "text": [
      "250it [00:07, 31.39it/s]\n",
      "4it [00:01,  3.82it/s]"
     ]
    },
    {
     "name": "stdout",
     "output_type": "stream",
     "text": [
      "[30/250] Loss: 3.9243555068969727 \t Acc: 20.4\n",
      "EarlyStopping counter: 1 out of 10\n"
     ]
    },
    {
     "name": "stderr",
     "output_type": "stream",
     "text": [
      "\n",
      "250it [00:08, 31.19it/s]\n",
      "4it [00:01,  3.24it/s]"
     ]
    },
    {
     "name": "stdout",
     "output_type": "stream",
     "text": [
      "[31/250] Loss: 3.781720757484436 \t Acc: 22.2\n",
      "Validation loss decreased (-20.600000 --> -22.200000).  Saving model ...\n"
     ]
    },
    {
     "name": "stderr",
     "output_type": "stream",
     "text": [
      "\n",
      "250it [00:08, 31.18it/s]\n",
      "4it [00:01,  3.59it/s]"
     ]
    },
    {
     "name": "stdout",
     "output_type": "stream",
     "text": [
      "[32/250] Loss: 3.8512572646141052 \t Acc: 19.8\n",
      "EarlyStopping counter: 1 out of 10\n"
     ]
    },
    {
     "name": "stderr",
     "output_type": "stream",
     "text": [
      "\n",
      "250it [00:07, 31.58it/s]\n",
      "4it [00:01,  3.60it/s]\n"
     ]
    },
    {
     "name": "stdout",
     "output_type": "stream",
     "text": [
      "[33/250] Loss: 3.7770437002182007 \t Acc: 23.6\n",
      "Validation loss decreased (-22.200000 --> -23.600000).  Saving model ...\n"
     ]
    },
    {
     "name": "stderr",
     "output_type": "stream",
     "text": [
      "250it [00:08, 30.84it/s]\n",
      "4it [00:01,  3.61it/s]"
     ]
    },
    {
     "name": "stdout",
     "output_type": "stream",
     "text": [
      "[34/250] Loss: 3.7708261013031006 \t Acc: 22.8\n",
      "EarlyStopping counter: 1 out of 10\n"
     ]
    },
    {
     "name": "stderr",
     "output_type": "stream",
     "text": [
      "\n",
      "250it [00:08, 31.16it/s]\n",
      "4it [00:01,  3.70it/s]"
     ]
    },
    {
     "name": "stdout",
     "output_type": "stream",
     "text": [
      "[35/250] Loss: 3.706676661968231 \t Acc: 23.4\n",
      "EarlyStopping counter: 2 out of 10\n"
     ]
    },
    {
     "name": "stderr",
     "output_type": "stream",
     "text": [
      "\n",
      "250it [00:08, 31.13it/s]\n",
      "4it [00:01,  3.76it/s]"
     ]
    },
    {
     "name": "stdout",
     "output_type": "stream",
     "text": [
      "[36/250] Loss: 3.7423490285873413 \t Acc: 24.0\n",
      "Validation loss decreased (-23.600000 --> -24.000000).  Saving model ...\n"
     ]
    },
    {
     "name": "stderr",
     "output_type": "stream",
     "text": [
      "\n",
      "250it [00:08, 31.21it/s]\n",
      "4it [00:01,  3.61it/s]\n"
     ]
    },
    {
     "name": "stdout",
     "output_type": "stream",
     "text": [
      "[37/250] Loss: 3.6279128789901733 \t Acc: 25.2\n",
      "Validation loss decreased (-24.000000 --> -25.200000).  Saving model ...\n"
     ]
    },
    {
     "name": "stderr",
     "output_type": "stream",
     "text": [
      "250it [00:07, 31.38it/s]\n",
      "4it [00:01,  3.66it/s]"
     ]
    },
    {
     "name": "stdout",
     "output_type": "stream",
     "text": [
      "[38/250] Loss: 3.641744613647461 \t Acc: 24.2\n",
      "EarlyStopping counter: 1 out of 10\n"
     ]
    },
    {
     "name": "stderr",
     "output_type": "stream",
     "text": [
      "\n",
      "250it [00:07, 31.59it/s]\n",
      "4it [00:01,  3.56it/s]\n"
     ]
    },
    {
     "name": "stdout",
     "output_type": "stream",
     "text": [
      "[39/250] Loss: 3.6555274724960327 \t Acc: 23.6\n",
      "EarlyStopping counter: 2 out of 10\n"
     ]
    },
    {
     "name": "stderr",
     "output_type": "stream",
     "text": [
      "250it [00:08, 31.22it/s]\n",
      "4it [00:01,  3.77it/s]\n"
     ]
    },
    {
     "name": "stdout",
     "output_type": "stream",
     "text": [
      "[40/250] Loss: 3.626066744327545 \t Acc: 25.2\n",
      "Validation loss decreased (-25.200000 --> -25.200000).  Saving model ...\n"
     ]
    },
    {
     "name": "stderr",
     "output_type": "stream",
     "text": [
      "250it [00:08, 31.07it/s]\n",
      "4it [00:01,  3.55it/s]\n"
     ]
    },
    {
     "name": "stdout",
     "output_type": "stream",
     "text": [
      "[41/250] Loss: 3.5805962681770325 \t Acc: 26.4\n",
      "Validation loss decreased (-25.200000 --> -26.400000).  Saving model ...\n"
     ]
    },
    {
     "name": "stderr",
     "output_type": "stream",
     "text": [
      "250it [00:07, 31.26it/s]\n",
      "4it [00:01,  3.72it/s]"
     ]
    },
    {
     "name": "stdout",
     "output_type": "stream",
     "text": [
      "[42/250] Loss: 3.642753303050995 \t Acc: 25.4\n",
      "EarlyStopping counter: 1 out of 10\n"
     ]
    },
    {
     "name": "stderr",
     "output_type": "stream",
     "text": [
      "\n",
      "250it [00:08, 30.93it/s]\n",
      "4it [00:01,  3.74it/s]"
     ]
    },
    {
     "name": "stdout",
     "output_type": "stream",
     "text": [
      "[43/250] Loss: 3.640055477619171 \t Acc: 26.0\n",
      "EarlyStopping counter: 2 out of 10\n"
     ]
    },
    {
     "name": "stderr",
     "output_type": "stream",
     "text": [
      "\n",
      "250it [00:07, 31.27it/s]\n",
      "4it [00:01,  3.59it/s]"
     ]
    },
    {
     "name": "stdout",
     "output_type": "stream",
     "text": [
      "[44/250] Loss: 3.5360246896743774 \t Acc: 26.2\n",
      "EarlyStopping counter: 3 out of 10\n"
     ]
    },
    {
     "name": "stderr",
     "output_type": "stream",
     "text": [
      "\n",
      "250it [00:08, 31.14it/s]\n",
      "4it [00:01,  3.75it/s]"
     ]
    },
    {
     "name": "stdout",
     "output_type": "stream",
     "text": [
      "[45/250] Loss: 3.5841487646102905 \t Acc: 25.4\n",
      "EarlyStopping counter: 4 out of 10\n"
     ]
    },
    {
     "name": "stderr",
     "output_type": "stream",
     "text": [
      "\n",
      "250it [00:07, 31.46it/s]\n",
      "4it [00:01,  3.69it/s]"
     ]
    },
    {
     "name": "stdout",
     "output_type": "stream",
     "text": [
      "[46/250] Loss: 3.557334005832672 \t Acc: 27.6\n",
      "Validation loss decreased (-26.400000 --> -27.600000).  Saving model ...\n"
     ]
    },
    {
     "name": "stderr",
     "output_type": "stream",
     "text": [
      "\n",
      "250it [00:08, 30.98it/s]\n",
      "4it [00:01,  3.54it/s]\n"
     ]
    },
    {
     "name": "stdout",
     "output_type": "stream",
     "text": [
      "[47/250] Loss: 3.497935116291046 \t Acc: 28.0\n",
      "Validation loss decreased (-27.600000 --> -28.000000).  Saving model ...\n"
     ]
    },
    {
     "name": "stderr",
     "output_type": "stream",
     "text": [
      "250it [00:08, 30.85it/s]\n",
      "4it [00:01,  3.60it/s]\n"
     ]
    },
    {
     "name": "stdout",
     "output_type": "stream",
     "text": [
      "[48/250] Loss: 3.4093093872070312 \t Acc: 31.4\n",
      "Validation loss decreased (-28.000000 --> -31.400000).  Saving model ...\n"
     ]
    },
    {
     "name": "stderr",
     "output_type": "stream",
     "text": [
      "250it [00:08, 30.86it/s]\n",
      "4it [00:01,  3.55it/s]\n"
     ]
    },
    {
     "name": "stdout",
     "output_type": "stream",
     "text": [
      "[49/250] Loss: 3.440618872642517 \t Acc: 29.2\n",
      "EarlyStopping counter: 1 out of 10\n"
     ]
    },
    {
     "name": "stderr",
     "output_type": "stream",
     "text": [
      "250it [00:08, 31.25it/s]\n",
      "4it [00:01,  3.64it/s]"
     ]
    },
    {
     "name": "stdout",
     "output_type": "stream",
     "text": [
      "[50/250] Loss: 3.423649489879608 \t Acc: 28.6\n",
      "EarlyStopping counter: 2 out of 10\n"
     ]
    },
    {
     "name": "stderr",
     "output_type": "stream",
     "text": [
      "\n",
      "250it [00:08, 30.77it/s]\n",
      "4it [00:01,  3.55it/s]"
     ]
    },
    {
     "name": "stdout",
     "output_type": "stream",
     "text": [
      "[51/250] Loss: 3.4509515166282654 \t Acc: 29.6\n",
      "EarlyStopping counter: 3 out of 10\n"
     ]
    },
    {
     "name": "stderr",
     "output_type": "stream",
     "text": [
      "\n",
      "250it [00:07, 31.43it/s]\n",
      "4it [00:01,  3.71it/s]"
     ]
    },
    {
     "name": "stdout",
     "output_type": "stream",
     "text": [
      "[52/250] Loss: 3.441505551338196 \t Acc: 28.4\n",
      "EarlyStopping counter: 4 out of 10\n"
     ]
    },
    {
     "name": "stderr",
     "output_type": "stream",
     "text": [
      "\n",
      "250it [00:07, 31.44it/s]\n",
      "4it [00:01,  3.59it/s]\n"
     ]
    },
    {
     "name": "stdout",
     "output_type": "stream",
     "text": [
      "[53/250] Loss: 3.461735725402832 \t Acc: 28.6\n",
      "EarlyStopping counter: 5 out of 10\n"
     ]
    },
    {
     "name": "stderr",
     "output_type": "stream",
     "text": [
      "250it [00:07, 31.39it/s]\n",
      "4it [00:01,  3.54it/s]\n"
     ]
    },
    {
     "name": "stdout",
     "output_type": "stream",
     "text": [
      "[54/250] Loss: 3.4368790984153748 \t Acc: 29.0\n",
      "EarlyStopping counter: 6 out of 10\n"
     ]
    },
    {
     "name": "stderr",
     "output_type": "stream",
     "text": [
      "250it [00:08, 30.49it/s]\n",
      "4it [00:01,  3.67it/s]"
     ]
    },
    {
     "name": "stdout",
     "output_type": "stream",
     "text": [
      "[55/250] Loss: 3.433984637260437 \t Acc: 29.8\n",
      "EarlyStopping counter: 7 out of 10\n"
     ]
    },
    {
     "name": "stderr",
     "output_type": "stream",
     "text": [
      "\n",
      "250it [00:07, 31.72it/s]\n",
      "4it [00:01,  3.59it/s]"
     ]
    },
    {
     "name": "stdout",
     "output_type": "stream",
     "text": [
      "[56/250] Loss: 3.3580992221832275 \t Acc: 31.0\n",
      "EarlyStopping counter: 8 out of 10\n"
     ]
    },
    {
     "name": "stderr",
     "output_type": "stream",
     "text": [
      "\n",
      "250it [00:07, 31.38it/s]\n",
      "4it [00:01,  3.70it/s]"
     ]
    },
    {
     "name": "stdout",
     "output_type": "stream",
     "text": [
      "[57/250] Loss: 3.4080103039741516 \t Acc: 30.8\n",
      "EarlyStopping counter: 9 out of 10\n"
     ]
    },
    {
     "name": "stderr",
     "output_type": "stream",
     "text": [
      "\n",
      "250it [00:08, 31.05it/s]\n",
      "4it [00:01,  3.67it/s]"
     ]
    },
    {
     "name": "stdout",
     "output_type": "stream",
     "text": [
      "[58/250] Loss: 3.3122188448905945 \t Acc: 31.2\n",
      "EarlyStopping counter: 10 out of 10\n",
      "Early stopping\n",
      "====================\n",
      "Training finished !!\n",
      "====================\n"
     ]
    },
    {
     "name": "stderr",
     "output_type": "stream",
     "text": [
      "\n"
     ]
    }
   ],
   "source": [
    "trainer.perform_training(cfg['epochs'])"
   ]
  },
  {
   "cell_type": "code",
   "execution_count": null,
   "id": "3183bca8-0011-4378-808e-cf5b1d702914",
   "metadata": {},
   "outputs": [],
   "source": []
  },
  {
   "cell_type": "code",
   "execution_count": null,
   "id": "f4e06b0d-0629-4235-a6ea-2fbb7f01f580",
   "metadata": {},
   "outputs": [],
   "source": []
  },
  {
   "cell_type": "code",
   "execution_count": 20,
   "id": "470754e3-c793-4966-b3e0-c420bc9351f8",
   "metadata": {},
   "outputs": [],
   "source": [
    "class medical_dataset_test(Dataset):\n",
    "    def __init__(self, config=None, answer_map=None, image_path='./dataset/Task1-VQA-2021-TestSet-w-GroundTruth/VQA-500-Images/', qa_file=\"./dataset/Task1-VQA-2021-TestSet-w-GroundTruth/Task1-VQA-2021-TestSet-Questions.txt\", train=True):\n",
    "            \n",
    "        assert answer_map!=None\n",
    "        assert config!=None\n",
    "        \n",
    "        self.image_path = image_path\n",
    "        self.qa_file = qa_file\n",
    "        self.config = config\n",
    "        self.train = train\n",
    "        \n",
    "        self.answer_map = answer_map\n",
    "        self.data = pd.read_csv(qa_file, sep='|', names=['imageid', 'question'])\n",
    "           \n",
    "        # print(Counter(self.data.answer.tolist()))\n",
    "        \n",
    "        self.transforms = transforms.Compose([\n",
    "                                transforms.RandomResizedCrop(224),\n",
    "                                transforms.ToTensor(),\n",
    "                                transforms.Normalize([0.485, 0.456, 0.406], [0.229, 0.224, 0.225])\n",
    "                            ])\n",
    "        self.tokenizer = tokenizer = AutoTokenizer.from_pretrained(\"dmis-lab/biobert-v1.1\")\n",
    "\n",
    "    def process_data(self, text, max_len):\n",
    "        text = str(text)\n",
    "\n",
    "        inputs = self.tokenizer.encode_plus(\n",
    "            text,\n",
    "            None,\n",
    "            add_special_tokens=True,\n",
    "            max_length=max_len,\n",
    "            truncation=True\n",
    "        )\n",
    "        ids = inputs[\"input_ids\"]\n",
    "        mask = inputs[\"attention_mask\"]\n",
    "        \n",
    "        padding_length = max_len - len(ids)\n",
    "        \n",
    "        ids = ids + ([0] * padding_length)\n",
    "        mask = mask + ([0] * padding_length)\n",
    "        \n",
    "        return {\n",
    "            'ids': torch.tensor(ids, dtype=torch.long),\n",
    "            'mask': torch.tensor(mask, dtype=torch.long),\n",
    "        }\n",
    "    \n",
    "    \n",
    "    def __getitem__(self, index):\n",
    "        \n",
    "        question = self.data.question[index]\n",
    "        image_idx = self.data.imageid[index]\n",
    "        \n",
    "        ## add visual feature related steps\n",
    "        visuals = Image.open(join(self.image_path, f'{image_idx}.jpg'))\n",
    "        visuals = self.transforms(visuals)\n",
    "        \n",
    "        \n",
    "        tmp = self.process_data(question, self.config['max_len'])\n",
    "        question_tokens = {\n",
    "            'ids': tmp['ids'],\n",
    "            'mask': tmp['mask'],\n",
    "        }\n",
    "        \n",
    "        return visuals, question_tokens, image_idx\n",
    "\n",
    "    def __len__(self):\n",
    "        return len(self.data)"
   ]
  },
  {
   "cell_type": "code",
   "execution_count": null,
   "id": "d793c153-4083-43b4-8cac-8c3bf7f13d75",
   "metadata": {},
   "outputs": [],
   "source": []
  },
  {
   "cell_type": "code",
   "execution_count": null,
   "id": "f7b1cd05-215d-4b60-aa47-3cb3affbe59d",
   "metadata": {},
   "outputs": [],
   "source": []
  },
  {
   "cell_type": "code",
   "execution_count": 21,
   "id": "d7e245c4-940a-4421-8efd-15db84833b87",
   "metadata": {},
   "outputs": [],
   "source": [
    "TestData = medical_dataset_test(config=cfg, answer_map=answer_map)\n",
    "TestDataLoader = DataLoader(TestData, batch_size=128, shuffle=False, num_workers=4)  # num_workers=0 for windows OS"
   ]
  },
  {
   "cell_type": "code",
   "execution_count": 22,
   "id": "3e6650d0-27b8-4da5-91a8-cfa402e3b481",
   "metadata": {},
   "outputs": [],
   "source": [
    "inv_map = {v: k for k, v in answer_map.items()}"
   ]
  },
  {
   "cell_type": "code",
   "execution_count": 23,
   "id": "39a3fc7c",
   "metadata": {},
   "outputs": [
    {
     "data": {
      "text/plain": [
       "<All keys matched successfully>"
      ]
     },
     "execution_count": 23,
     "metadata": {},
     "output_type": "execute_result"
    }
   ],
   "source": [
    "trainer.model.load_state_dict(torch.load('./models/resnet18/checkpoint.pt'))"
   ]
  },
  {
   "cell_type": "code",
   "execution_count": 24,
   "id": "397f6734-52b5-4eae-b698-9872b3290941",
   "metadata": {},
   "outputs": [
    {
     "name": "stderr",
     "output_type": "stream",
     "text": [
      "4it [00:01,  3.39it/s]\n"
     ]
    }
   ],
   "source": [
    "trainer.model.eval()\n",
    "        \n",
    "imageids = []\n",
    "answers = []\n",
    "\n",
    "running_loss = 0.0\n",
    "correct = 0\n",
    "total = 0\n",
    "with torch.no_grad():\n",
    "    for en, (visuals, question, target) in tqdm(enumerate(TestDataLoader)):\n",
    "        visuals = visuals.to(trainer.device)\n",
    "\n",
    "        outputs = trainer.model(visuals)\n",
    "\n",
    "        y_pred_softmax = torch.log_softmax(outputs, dim = 1)\n",
    "        _, y_pred_tags = torch.max(y_pred_softmax, dim = 1)\n",
    "        # self.tmp_sv_ = y_pred_tags\n",
    "        \n",
    "        for i in range(visuals.shape[0]):\n",
    "            imageids.append(target[i])\n",
    "            answers.append(inv_map[int(y_pred_tags[i])])\n"
   ]
  },
  {
   "cell_type": "code",
   "execution_count": 25,
   "id": "7fbfb9bc-ce07-471c-a606-27cb6becc535",
   "metadata": {
    "tags": []
   },
   "outputs": [
    {
     "data": {
      "text/plain": [
       "['avascular necrosis of the femoral head',\n",
       " 'pulmonary embolism',\n",
       " 'rickets',\n",
       " 'achalasia',\n",
       " 'tibial plateau fracture']"
      ]
     },
     "execution_count": 25,
     "metadata": {},
     "output_type": "execute_result"
    }
   ],
   "source": [
    "answers[:5]"
   ]
  },
  {
   "cell_type": "code",
   "execution_count": 26,
   "id": "21062d97-e63f-483d-afbf-f81e96df9183",
   "metadata": {},
   "outputs": [],
   "source": [
    "pd.DataFrame({'imageids':imageids, 'answers':answers}).to_csv('resnet18.txt', sep='|', index=False, header=False)"
   ]
  },
  {
   "cell_type": "code",
   "execution_count": null,
   "id": "e39090a4-56b4-4ec3-b060-d02c534c1ff2",
   "metadata": {},
   "outputs": [],
   "source": []
  }
 ],
 "metadata": {
  "kernelspec": {
   "display_name": "Python 3 (ipykernel)",
   "language": "python",
   "name": "python3"
  },
  "language_info": {
   "codemirror_mode": {
    "name": "ipython",
    "version": 3
   },
   "file_extension": ".py",
   "mimetype": "text/x-python",
   "name": "python",
   "nbconvert_exporter": "python",
   "pygments_lexer": "ipython3",
   "version": "3.8.10"
  }
 },
 "nbformat": 4,
 "nbformat_minor": 5
}
